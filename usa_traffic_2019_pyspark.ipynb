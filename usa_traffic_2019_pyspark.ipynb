{
 "cells": [
  {
   "cell_type": "markdown",
   "id": "1ac904c9",
   "metadata": {},
   "source": [
    "# pyspark"
   ]
  },
  {
   "cell_type": "markdown",
   "id": "860aa28a",
   "metadata": {},
   "source": [
    "## Reading in the data from SQL"
   ]
  },
  {
   "cell_type": "code",
   "execution_count": 1,
   "id": "f504bd0f",
   "metadata": {},
   "outputs": [],
   "source": [
    "import pandas as pd\n",
    "import pyspark"
   ]
  },
  {
   "cell_type": "code",
   "execution_count": 2,
   "id": "905bf9d3",
   "metadata": {},
   "outputs": [
    {
     "name": "stdout",
     "output_type": "stream",
     "text": [
      "Populating the interactive namespace from numpy and matplotlib\n"
     ]
    }
   ],
   "source": [
    "from   io           import StringIO\n",
    "import os\n",
    "import sys\n",
    "import warnings\n",
    "\n",
    "import matplotlib.pyplot as plt\n",
    "\n",
    "import requests\n",
    "import seaborn as sns\n",
    "\n",
    "warnings.filterwarnings('ignore')\n",
    "\n",
    "%pylab inline\n",
    "%config InlineBackend.figure_formats = ['retina']"
   ]
  },
  {
   "cell_type": "code",
   "execution_count": 3,
   "id": "bfda0e43",
   "metadata": {},
   "outputs": [
    {
     "name": "stderr",
     "output_type": "stream",
     "text": [
      "21/12/12 10:08:59 WARN Utils: Your hostname, Amirs-MacBook-Pro.local resolves to a loopback address: 127.0.0.1; using 192.168.0.63 instead (on interface en0)\n",
      "21/12/12 10:08:59 WARN Utils: Set SPARK_LOCAL_IP if you need to bind to another address\n",
      "21/12/12 10:09:00 WARN NativeCodeLoader: Unable to load native-hadoop library for your platform... using builtin-java classes where applicable\n",
      "Using Spark's default log4j profile: org/apache/spark/log4j-defaults.properties\n",
      "Setting default log level to \"WARN\".\n",
      "To adjust logging level use sc.setLogLevel(newLevel). For SparkR, use setLogLevel(newLevel).\n"
     ]
    }
   ],
   "source": [
    "spark = pyspark.sql.SparkSession.builder.getOrCreate()"
   ]
  },
  {
   "cell_type": "code",
   "execution_count": 4,
   "id": "be90f952",
   "metadata": {},
   "outputs": [
    {
     "name": "stdout",
     "output_type": "stream",
     "text": [
      "ID,Severity,Start_Time,End_Time,Start_Lat,Start_Lng,End_Lat,End_Lng,Distance(mi),Description,Number,Street,Side,City,County,State,Zipcode,Country,Timezone,Airport_Code,Weather_Timestamp,Temperature(F),Wind_Chill(F),Humidity(%),Pressure(in),Visibility(mi),Wind_Direction,Wind_Speed(mph),Precipitation(in),Weather_Condition,Amenity,Bump,Crossing,Give_Way,Junction,No_Exit,Railway,Roundabout,Station,Stop,Traffic_Calming,Traffic_Signal,Turning_Loop,Sunrise_Sunset,Civil_Twilight,Nautical_Twilight,Astronomical_Twilight\r\n"
     ]
    }
   ],
   "source": [
    "fullpath = 'us_accide_2019.csv'\n",
    "    \n",
    "# first line of file\n",
    "! head -n 1 {fullpath}"
   ]
  },
  {
   "cell_type": "code",
   "execution_count": 5,
   "id": "e37f40a8",
   "metadata": {},
   "outputs": [
    {
     "name": "stdout",
     "output_type": "stream",
     "text": [
      "ID,Severity,Start_Time,End_Time,Start_Lat,Start_Lng,End_Lat,End_Lng,Distance(mi),Description,Number,Street,Side,City,County,State,Zipcode,Country,Timezone,Airport_Code,Weather_Timestamp,Temperature(F),Wind_Chill(F),Humidity(%),Pressure(in),Visibility(mi),Wind_Direction,Wind_Speed(mph),Precipitation(in),Weather_Condition,Amenity,Bump,Crossing,Give_Way,Junction,No_Exit,Railway,Roundabout,Station,Stop,Traffic_Calming,Traffic_Signal,Turning_Loop,Sunrise_Sunset,Civil_Twilight,Nautical_Twilight,Astronomical_Twilight\r\n",
      "A-2982119,4,2019-10-19 04:30:00.000000000,2020-11-01 00:00:00.000000000,38.87554,-77.280396,38.87909,-77.253206,1.483,On Rt. 6731 (Vaden Dr) in the County of Fairfax at Country Creek Rd; Virginia Center Bv; Rt. 6154E/W (Fairfax County); Rt. 6154E (Fairfax County) motorists can expect potential delays in this area from 10/18/19 at 9:30 PM until 10/31/20 at 5:00 PM due to construction activities. All east lanes are closed. All west lanes are closed.,,I-66 E,R,Fairfax,Fairfax County,VA,22031,US,US/Eastern,KDAA,2019-10-19 04:56:00,37.0,37.0,92.0,30.02,10.0,CALM,0.0,0.0,Fair,False,False,False,False,False,False,True,False,False,False,False,False,False,Night,Night,Night,Night\r\n",
      "A-3226009,4,2019-12-17 09:12:52,2020-10-14 07:07:49,33.634089,-112.106196,33.636297,-112.104149,0.193,Closed road from W Grandview Rd / N Garrin Dr to W Phelps Rd due to accident roadwork.,2093.0,W Grandview Rd,R,Phoenix,Maricopa,AZ,85023,US,US/Mountain,KDVT,2019-12-17 08:53:00,47.0,41.0,22.0,28.75,10.0,NNE,14.0,0.0,Fair,False,False,True,False,False,False,False,False,False,True,False,False,False,Day,Day,Day,Day\r\n",
      "A-3318645,4,2019-10-19 04:30:00,2020-11-01 00:00:00,38.87554,-77.280396,38.87909,-77.253206,1.483,On Rt. 6731 (Vaden Dr) in the County of Fairfax at Country Creek Rd; Virginia Center Bv; Rt. 6154E/W (Fairfax County); Rt. 6154E (Fairfax County) motorists can expect potential delays in this area from 10/18/19 at 9:30 PM until 10/31/20 at 5:00 PM due to construction activities. All east lanes are closed. All west lanes are closed.,,I-66 E,R,Fairfax,Fairfax County,VA,22031,US,US/Eastern,KDAA,2019-10-19 04:56:00,37.0,37.0,92.0,30.02,10.0,CALM,0.0,0.0,Fair,False,False,False,False,False,False,True,False,False,False,False,False,False,Night,Night,Night,Night\r\n",
      "A-3465684,2,2019-10-15 09:55:21,2020-06-05 10:00:00,45.34525,-118.12344,45.34525,-118.12344,0.0,At US-30/Exit 259 - Accident.,,I-84 E,R,La Grande,Union,OR,97850,US,US/Pacific,KLGD,2019-10-15 09:56:00,43.0,39.0,68.0,27.32,10.0,NNE,6.0,0.0,Fair,False,False,False,False,False,False,False,False,False,False,False,False,False,Day,Day,Day,Day\r\n"
     ]
    }
   ],
   "source": [
    "# first 5 lines of file \n",
    "! head -n 5 {fullpath}"
   ]
  },
  {
   "cell_type": "code",
   "execution_count": 6,
   "id": "5c01d6be",
   "metadata": {},
   "outputs": [],
   "source": [
    "columns = ['ID','Severity','Start_Time','End_Time','Start_Lat','Start_Lng','End_Lat','End_Lng','Distance(mi)',\n",
    "               'Description','Number','Street','Side','City','County','State','Zipcode','Country','Timezone','Airport_Code',\n",
    "               'Weather_Timestamp','Temperature(F)','Wind_Chill(F)','Humidity(%)','Pressure(in)','Visibility(mi)',\n",
    "               'Wind_Direction','Wind_Speed(mph)','Precipitation(in)','Weather_Condition','Amenity','Bump','Crossing',\n",
    "               'Give_Way','Junction','No_Exit','Railway','Roundabout','Station','Stop','Traffic_Calming','Traffic_Signal',\n",
    "               'Turning_Loop','Sunrise_Sunset','Civil_Twilight','Nautical_Twilight','Astronomical_Twilight']"
   ]
  },
  {
   "cell_type": "code",
   "execution_count": 7,
   "id": "f2e0573f",
   "metadata": {},
   "outputs": [
    {
     "name": "stderr",
     "output_type": "stream",
     "text": [
      "                                                                                \r"
     ]
    }
   ],
   "source": [
    "# read.csv is very similar to the Pandas version\n",
    "data = spark.read.csv(fullpath,\n",
    "                     sep=',',\n",
    "                     inferSchema=True,\n",
    "                     header=True)"
   ]
  },
  {
   "cell_type": "code",
   "execution_count": 8,
   "id": "5f8dd3a1",
   "metadata": {},
   "outputs": [
    {
     "name": "stdout",
     "output_type": "stream",
     "text": [
      "root\n",
      " |-- ID: string (nullable = true)\n",
      " |-- Severity: integer (nullable = true)\n",
      " |-- Start_Time: string (nullable = true)\n",
      " |-- End_Time: string (nullable = true)\n",
      " |-- Start_Lat: double (nullable = true)\n",
      " |-- Start_Lng: double (nullable = true)\n",
      " |-- End_Lat: double (nullable = true)\n",
      " |-- End_Lng: double (nullable = true)\n",
      " |-- Distance(mi): double (nullable = true)\n",
      " |-- Description: string (nullable = true)\n",
      " |-- Number: double (nullable = true)\n",
      " |-- Street: string (nullable = true)\n",
      " |-- Side: string (nullable = true)\n",
      " |-- City: string (nullable = true)\n",
      " |-- County: string (nullable = true)\n",
      " |-- State: string (nullable = true)\n",
      " |-- Zipcode: string (nullable = true)\n",
      " |-- Country: string (nullable = true)\n",
      " |-- Timezone: string (nullable = true)\n",
      " |-- Airport_Code: string (nullable = true)\n",
      " |-- Weather_Timestamp: string (nullable = true)\n",
      " |-- Temperature(F): double (nullable = true)\n",
      " |-- Wind_Chill(F): double (nullable = true)\n",
      " |-- Humidity(%): double (nullable = true)\n",
      " |-- Pressure(in): double (nullable = true)\n",
      " |-- Visibility(mi): double (nullable = true)\n",
      " |-- Wind_Direction: string (nullable = true)\n",
      " |-- Wind_Speed(mph): double (nullable = true)\n",
      " |-- Precipitation(in): double (nullable = true)\n",
      " |-- Weather_Condition: string (nullable = true)\n",
      " |-- Amenity: boolean (nullable = true)\n",
      " |-- Bump: boolean (nullable = true)\n",
      " |-- Crossing: boolean (nullable = true)\n",
      " |-- Give_Way: boolean (nullable = true)\n",
      " |-- Junction: boolean (nullable = true)\n",
      " |-- No_Exit: boolean (nullable = true)\n",
      " |-- Railway: boolean (nullable = true)\n",
      " |-- Roundabout: boolean (nullable = true)\n",
      " |-- Station: boolean (nullable = true)\n",
      " |-- Stop: boolean (nullable = true)\n",
      " |-- Traffic_Calming: boolean (nullable = true)\n",
      " |-- Traffic_Signal: boolean (nullable = true)\n",
      " |-- Turning_Loop: boolean (nullable = true)\n",
      " |-- Sunrise_Sunset: string (nullable = true)\n",
      " |-- Civil_Twilight: string (nullable = true)\n",
      " |-- Nautical_Twilight: string (nullable = true)\n",
      " |-- Astronomical_Twilight: string (nullable = true)\n",
      "\n"
     ]
    }
   ],
   "source": [
    "data.printSchema()"
   ]
  },
  {
   "cell_type": "code",
   "execution_count": 9,
   "id": "2adda300",
   "metadata": {},
   "outputs": [
    {
     "name": "stderr",
     "output_type": "stream",
     "text": [
      "21/12/12 10:09:54 WARN package: Truncated the string representation of a plan since it was too large. This behavior can be adjusted by setting 'spark.sql.debug.maxToStringFields'.\n"
     ]
    },
    {
     "data": {
      "text/plain": [
       "Row(ID='A-2982119', Severity=4, Start_Time='2019-10-19 04:30:00.000000000', End_Time='2020-11-01 00:00:00.000000000', Start_Lat=38.87554, Start_Lng=-77.280396, End_Lat=38.87909, End_Lng=-77.253206, Distance(mi)=1.483, Description='On Rt. 6731 (Vaden Dr) in the County of Fairfax at Country Creek Rd; Virginia Center Bv; Rt. 6154E/W (Fairfax County); Rt. 6154E (Fairfax County) motorists can expect potential delays in this area from 10/18/19 at 9:30 PM until 10/31/20 at 5:00 PM due to construction activities. All east lanes are closed. All west lanes are closed.', Number=None, Street='I-66 E', Side='R', City='Fairfax', County='Fairfax County', State='VA', Zipcode='22031', Country='US', Timezone='US/Eastern', Airport_Code='KDAA', Weather_Timestamp='2019-10-19 04:56:00', Temperature(F)=37.0, Wind_Chill(F)=37.0, Humidity(%)=92.0, Pressure(in)=30.02, Visibility(mi)=10.0, Wind_Direction='CALM', Wind_Speed(mph)=0.0, Precipitation(in)=0.0, Weather_Condition='Fair', Amenity=False, Bump=False, Crossing=False, Give_Way=False, Junction=False, No_Exit=False, Railway=True, Roundabout=False, Station=False, Stop=False, Traffic_Calming=False, Traffic_Signal=False, Turning_Loop=False, Sunrise_Sunset='Night', Civil_Twilight='Night', Nautical_Twilight='Night', Astronomical_Twilight='Night')"
      ]
     },
     "execution_count": 9,
     "metadata": {},
     "output_type": "execute_result"
    }
   ],
   "source": [
    "data.head()"
   ]
  },
  {
   "cell_type": "code",
   "execution_count": 10,
   "id": "f85fe177",
   "metadata": {},
   "outputs": [
    {
     "data": {
      "text/html": [
       "<div>\n",
       "<style scoped>\n",
       "    .dataframe tbody tr th:only-of-type {\n",
       "        vertical-align: middle;\n",
       "    }\n",
       "\n",
       "    .dataframe tbody tr th {\n",
       "        vertical-align: top;\n",
       "    }\n",
       "\n",
       "    .dataframe thead th {\n",
       "        text-align: right;\n",
       "    }\n",
       "</style>\n",
       "<table border=\"1\" class=\"dataframe\">\n",
       "  <thead>\n",
       "    <tr style=\"text-align: right;\">\n",
       "      <th></th>\n",
       "      <th>0</th>\n",
       "      <th>1</th>\n",
       "      <th>2</th>\n",
       "    </tr>\n",
       "  </thead>\n",
       "  <tbody>\n",
       "    <tr>\n",
       "      <th>ID</th>\n",
       "      <td>A-2982119</td>\n",
       "      <td>A-3226009</td>\n",
       "      <td>A-3318645</td>\n",
       "    </tr>\n",
       "    <tr>\n",
       "      <th>Severity</th>\n",
       "      <td>4</td>\n",
       "      <td>4</td>\n",
       "      <td>4</td>\n",
       "    </tr>\n",
       "    <tr>\n",
       "      <th>Start_Time</th>\n",
       "      <td>2019-10-19 04:30:00.000000000</td>\n",
       "      <td>2019-12-17 09:12:52</td>\n",
       "      <td>2019-10-19 04:30:00</td>\n",
       "    </tr>\n",
       "    <tr>\n",
       "      <th>End_Time</th>\n",
       "      <td>2020-11-01 00:00:00.000000000</td>\n",
       "      <td>2020-10-14 07:07:49</td>\n",
       "      <td>2020-11-01 00:00:00</td>\n",
       "    </tr>\n",
       "    <tr>\n",
       "      <th>Start_Lat</th>\n",
       "      <td>38.87554</td>\n",
       "      <td>33.634089</td>\n",
       "      <td>38.87554</td>\n",
       "    </tr>\n",
       "    <tr>\n",
       "      <th>Start_Lng</th>\n",
       "      <td>-77.280396</td>\n",
       "      <td>-112.106196</td>\n",
       "      <td>-77.280396</td>\n",
       "    </tr>\n",
       "    <tr>\n",
       "      <th>End_Lat</th>\n",
       "      <td>38.87909</td>\n",
       "      <td>33.636297</td>\n",
       "      <td>38.87909</td>\n",
       "    </tr>\n",
       "    <tr>\n",
       "      <th>End_Lng</th>\n",
       "      <td>-77.253206</td>\n",
       "      <td>-112.104149</td>\n",
       "      <td>-77.253206</td>\n",
       "    </tr>\n",
       "    <tr>\n",
       "      <th>Distance(mi)</th>\n",
       "      <td>1.483</td>\n",
       "      <td>0.193</td>\n",
       "      <td>1.483</td>\n",
       "    </tr>\n",
       "    <tr>\n",
       "      <th>Description</th>\n",
       "      <td>On Rt. 6731 (Vaden Dr) in the County of Fairfa...</td>\n",
       "      <td>Closed road from W Grandview Rd / N Garrin Dr ...</td>\n",
       "      <td>On Rt. 6731 (Vaden Dr) in the County of Fairfa...</td>\n",
       "    </tr>\n",
       "    <tr>\n",
       "      <th>Number</th>\n",
       "      <td>NaN</td>\n",
       "      <td>2093.0</td>\n",
       "      <td>NaN</td>\n",
       "    </tr>\n",
       "    <tr>\n",
       "      <th>Street</th>\n",
       "      <td>I-66 E</td>\n",
       "      <td>W Grandview Rd</td>\n",
       "      <td>I-66 E</td>\n",
       "    </tr>\n",
       "    <tr>\n",
       "      <th>Side</th>\n",
       "      <td>R</td>\n",
       "      <td>R</td>\n",
       "      <td>R</td>\n",
       "    </tr>\n",
       "    <tr>\n",
       "      <th>City</th>\n",
       "      <td>Fairfax</td>\n",
       "      <td>Phoenix</td>\n",
       "      <td>Fairfax</td>\n",
       "    </tr>\n",
       "    <tr>\n",
       "      <th>County</th>\n",
       "      <td>Fairfax County</td>\n",
       "      <td>Maricopa</td>\n",
       "      <td>Fairfax County</td>\n",
       "    </tr>\n",
       "    <tr>\n",
       "      <th>State</th>\n",
       "      <td>VA</td>\n",
       "      <td>AZ</td>\n",
       "      <td>VA</td>\n",
       "    </tr>\n",
       "    <tr>\n",
       "      <th>Zipcode</th>\n",
       "      <td>22031</td>\n",
       "      <td>85023</td>\n",
       "      <td>22031</td>\n",
       "    </tr>\n",
       "    <tr>\n",
       "      <th>Country</th>\n",
       "      <td>US</td>\n",
       "      <td>US</td>\n",
       "      <td>US</td>\n",
       "    </tr>\n",
       "    <tr>\n",
       "      <th>Timezone</th>\n",
       "      <td>US/Eastern</td>\n",
       "      <td>US/Mountain</td>\n",
       "      <td>US/Eastern</td>\n",
       "    </tr>\n",
       "    <tr>\n",
       "      <th>Airport_Code</th>\n",
       "      <td>KDAA</td>\n",
       "      <td>KDVT</td>\n",
       "      <td>KDAA</td>\n",
       "    </tr>\n",
       "    <tr>\n",
       "      <th>Weather_Timestamp</th>\n",
       "      <td>2019-10-19 04:56:00</td>\n",
       "      <td>2019-12-17 08:53:00</td>\n",
       "      <td>2019-10-19 04:56:00</td>\n",
       "    </tr>\n",
       "    <tr>\n",
       "      <th>Temperature(F)</th>\n",
       "      <td>37.0</td>\n",
       "      <td>47.0</td>\n",
       "      <td>37.0</td>\n",
       "    </tr>\n",
       "    <tr>\n",
       "      <th>Wind_Chill(F)</th>\n",
       "      <td>37.0</td>\n",
       "      <td>41.0</td>\n",
       "      <td>37.0</td>\n",
       "    </tr>\n",
       "    <tr>\n",
       "      <th>Humidity(%)</th>\n",
       "      <td>92.0</td>\n",
       "      <td>22.0</td>\n",
       "      <td>92.0</td>\n",
       "    </tr>\n",
       "    <tr>\n",
       "      <th>Pressure(in)</th>\n",
       "      <td>30.02</td>\n",
       "      <td>28.75</td>\n",
       "      <td>30.02</td>\n",
       "    </tr>\n",
       "    <tr>\n",
       "      <th>Visibility(mi)</th>\n",
       "      <td>10.0</td>\n",
       "      <td>10.0</td>\n",
       "      <td>10.0</td>\n",
       "    </tr>\n",
       "    <tr>\n",
       "      <th>Wind_Direction</th>\n",
       "      <td>CALM</td>\n",
       "      <td>NNE</td>\n",
       "      <td>CALM</td>\n",
       "    </tr>\n",
       "    <tr>\n",
       "      <th>Wind_Speed(mph)</th>\n",
       "      <td>0.0</td>\n",
       "      <td>14.0</td>\n",
       "      <td>0.0</td>\n",
       "    </tr>\n",
       "    <tr>\n",
       "      <th>Precipitation(in)</th>\n",
       "      <td>0.0</td>\n",
       "      <td>0.0</td>\n",
       "      <td>0.0</td>\n",
       "    </tr>\n",
       "    <tr>\n",
       "      <th>Weather_Condition</th>\n",
       "      <td>Fair</td>\n",
       "      <td>Fair</td>\n",
       "      <td>Fair</td>\n",
       "    </tr>\n",
       "    <tr>\n",
       "      <th>Amenity</th>\n",
       "      <td>False</td>\n",
       "      <td>False</td>\n",
       "      <td>False</td>\n",
       "    </tr>\n",
       "    <tr>\n",
       "      <th>Bump</th>\n",
       "      <td>False</td>\n",
       "      <td>False</td>\n",
       "      <td>False</td>\n",
       "    </tr>\n",
       "    <tr>\n",
       "      <th>Crossing</th>\n",
       "      <td>False</td>\n",
       "      <td>True</td>\n",
       "      <td>False</td>\n",
       "    </tr>\n",
       "    <tr>\n",
       "      <th>Give_Way</th>\n",
       "      <td>False</td>\n",
       "      <td>False</td>\n",
       "      <td>False</td>\n",
       "    </tr>\n",
       "    <tr>\n",
       "      <th>Junction</th>\n",
       "      <td>False</td>\n",
       "      <td>False</td>\n",
       "      <td>False</td>\n",
       "    </tr>\n",
       "    <tr>\n",
       "      <th>No_Exit</th>\n",
       "      <td>False</td>\n",
       "      <td>False</td>\n",
       "      <td>False</td>\n",
       "    </tr>\n",
       "    <tr>\n",
       "      <th>Railway</th>\n",
       "      <td>True</td>\n",
       "      <td>False</td>\n",
       "      <td>True</td>\n",
       "    </tr>\n",
       "    <tr>\n",
       "      <th>Roundabout</th>\n",
       "      <td>False</td>\n",
       "      <td>False</td>\n",
       "      <td>False</td>\n",
       "    </tr>\n",
       "    <tr>\n",
       "      <th>Station</th>\n",
       "      <td>False</td>\n",
       "      <td>False</td>\n",
       "      <td>False</td>\n",
       "    </tr>\n",
       "    <tr>\n",
       "      <th>Stop</th>\n",
       "      <td>False</td>\n",
       "      <td>True</td>\n",
       "      <td>False</td>\n",
       "    </tr>\n",
       "    <tr>\n",
       "      <th>Traffic_Calming</th>\n",
       "      <td>False</td>\n",
       "      <td>False</td>\n",
       "      <td>False</td>\n",
       "    </tr>\n",
       "    <tr>\n",
       "      <th>Traffic_Signal</th>\n",
       "      <td>False</td>\n",
       "      <td>False</td>\n",
       "      <td>False</td>\n",
       "    </tr>\n",
       "    <tr>\n",
       "      <th>Turning_Loop</th>\n",
       "      <td>False</td>\n",
       "      <td>False</td>\n",
       "      <td>False</td>\n",
       "    </tr>\n",
       "    <tr>\n",
       "      <th>Sunrise_Sunset</th>\n",
       "      <td>Night</td>\n",
       "      <td>Day</td>\n",
       "      <td>Night</td>\n",
       "    </tr>\n",
       "    <tr>\n",
       "      <th>Civil_Twilight</th>\n",
       "      <td>Night</td>\n",
       "      <td>Day</td>\n",
       "      <td>Night</td>\n",
       "    </tr>\n",
       "    <tr>\n",
       "      <th>Nautical_Twilight</th>\n",
       "      <td>Night</td>\n",
       "      <td>Day</td>\n",
       "      <td>Night</td>\n",
       "    </tr>\n",
       "    <tr>\n",
       "      <th>Astronomical_Twilight</th>\n",
       "      <td>Night</td>\n",
       "      <td>Day</td>\n",
       "      <td>Night</td>\n",
       "    </tr>\n",
       "  </tbody>\n",
       "</table>\n",
       "</div>"
      ],
      "text/plain": [
       "                                                                       0  \\\n",
       "ID                                                             A-2982119   \n",
       "Severity                                                               4   \n",
       "Start_Time                                 2019-10-19 04:30:00.000000000   \n",
       "End_Time                                   2020-11-01 00:00:00.000000000   \n",
       "Start_Lat                                                       38.87554   \n",
       "Start_Lng                                                     -77.280396   \n",
       "End_Lat                                                         38.87909   \n",
       "End_Lng                                                       -77.253206   \n",
       "Distance(mi)                                                       1.483   \n",
       "Description            On Rt. 6731 (Vaden Dr) in the County of Fairfa...   \n",
       "Number                                                               NaN   \n",
       "Street                                                            I-66 E   \n",
       "Side                                                                   R   \n",
       "City                                                             Fairfax   \n",
       "County                                                    Fairfax County   \n",
       "State                                                                 VA   \n",
       "Zipcode                                                            22031   \n",
       "Country                                                               US   \n",
       "Timezone                                                      US/Eastern   \n",
       "Airport_Code                                                        KDAA   \n",
       "Weather_Timestamp                                    2019-10-19 04:56:00   \n",
       "Temperature(F)                                                      37.0   \n",
       "Wind_Chill(F)                                                       37.0   \n",
       "Humidity(%)                                                         92.0   \n",
       "Pressure(in)                                                       30.02   \n",
       "Visibility(mi)                                                      10.0   \n",
       "Wind_Direction                                                      CALM   \n",
       "Wind_Speed(mph)                                                      0.0   \n",
       "Precipitation(in)                                                    0.0   \n",
       "Weather_Condition                                                   Fair   \n",
       "Amenity                                                            False   \n",
       "Bump                                                               False   \n",
       "Crossing                                                           False   \n",
       "Give_Way                                                           False   \n",
       "Junction                                                           False   \n",
       "No_Exit                                                            False   \n",
       "Railway                                                             True   \n",
       "Roundabout                                                         False   \n",
       "Station                                                            False   \n",
       "Stop                                                               False   \n",
       "Traffic_Calming                                                    False   \n",
       "Traffic_Signal                                                     False   \n",
       "Turning_Loop                                                       False   \n",
       "Sunrise_Sunset                                                     Night   \n",
       "Civil_Twilight                                                     Night   \n",
       "Nautical_Twilight                                                  Night   \n",
       "Astronomical_Twilight                                              Night   \n",
       "\n",
       "                                                                       1  \\\n",
       "ID                                                             A-3226009   \n",
       "Severity                                                               4   \n",
       "Start_Time                                           2019-12-17 09:12:52   \n",
       "End_Time                                             2020-10-14 07:07:49   \n",
       "Start_Lat                                                      33.634089   \n",
       "Start_Lng                                                    -112.106196   \n",
       "End_Lat                                                        33.636297   \n",
       "End_Lng                                                      -112.104149   \n",
       "Distance(mi)                                                       0.193   \n",
       "Description            Closed road from W Grandview Rd / N Garrin Dr ...   \n",
       "Number                                                            2093.0   \n",
       "Street                                                    W Grandview Rd   \n",
       "Side                                                                   R   \n",
       "City                                                             Phoenix   \n",
       "County                                                          Maricopa   \n",
       "State                                                                 AZ   \n",
       "Zipcode                                                            85023   \n",
       "Country                                                               US   \n",
       "Timezone                                                     US/Mountain   \n",
       "Airport_Code                                                        KDVT   \n",
       "Weather_Timestamp                                    2019-12-17 08:53:00   \n",
       "Temperature(F)                                                      47.0   \n",
       "Wind_Chill(F)                                                       41.0   \n",
       "Humidity(%)                                                         22.0   \n",
       "Pressure(in)                                                       28.75   \n",
       "Visibility(mi)                                                      10.0   \n",
       "Wind_Direction                                                       NNE   \n",
       "Wind_Speed(mph)                                                     14.0   \n",
       "Precipitation(in)                                                    0.0   \n",
       "Weather_Condition                                                   Fair   \n",
       "Amenity                                                            False   \n",
       "Bump                                                               False   \n",
       "Crossing                                                            True   \n",
       "Give_Way                                                           False   \n",
       "Junction                                                           False   \n",
       "No_Exit                                                            False   \n",
       "Railway                                                            False   \n",
       "Roundabout                                                         False   \n",
       "Station                                                            False   \n",
       "Stop                                                                True   \n",
       "Traffic_Calming                                                    False   \n",
       "Traffic_Signal                                                     False   \n",
       "Turning_Loop                                                       False   \n",
       "Sunrise_Sunset                                                       Day   \n",
       "Civil_Twilight                                                       Day   \n",
       "Nautical_Twilight                                                    Day   \n",
       "Astronomical_Twilight                                                Day   \n",
       "\n",
       "                                                                       2  \n",
       "ID                                                             A-3318645  \n",
       "Severity                                                               4  \n",
       "Start_Time                                           2019-10-19 04:30:00  \n",
       "End_Time                                             2020-11-01 00:00:00  \n",
       "Start_Lat                                                       38.87554  \n",
       "Start_Lng                                                     -77.280396  \n",
       "End_Lat                                                         38.87909  \n",
       "End_Lng                                                       -77.253206  \n",
       "Distance(mi)                                                       1.483  \n",
       "Description            On Rt. 6731 (Vaden Dr) in the County of Fairfa...  \n",
       "Number                                                               NaN  \n",
       "Street                                                            I-66 E  \n",
       "Side                                                                   R  \n",
       "City                                                             Fairfax  \n",
       "County                                                    Fairfax County  \n",
       "State                                                                 VA  \n",
       "Zipcode                                                            22031  \n",
       "Country                                                               US  \n",
       "Timezone                                                      US/Eastern  \n",
       "Airport_Code                                                        KDAA  \n",
       "Weather_Timestamp                                    2019-10-19 04:56:00  \n",
       "Temperature(F)                                                      37.0  \n",
       "Wind_Chill(F)                                                       37.0  \n",
       "Humidity(%)                                                         92.0  \n",
       "Pressure(in)                                                       30.02  \n",
       "Visibility(mi)                                                      10.0  \n",
       "Wind_Direction                                                      CALM  \n",
       "Wind_Speed(mph)                                                      0.0  \n",
       "Precipitation(in)                                                    0.0  \n",
       "Weather_Condition                                                   Fair  \n",
       "Amenity                                                            False  \n",
       "Bump                                                               False  \n",
       "Crossing                                                           False  \n",
       "Give_Way                                                           False  \n",
       "Junction                                                           False  \n",
       "No_Exit                                                            False  \n",
       "Railway                                                             True  \n",
       "Roundabout                                                         False  \n",
       "Station                                                            False  \n",
       "Stop                                                               False  \n",
       "Traffic_Calming                                                    False  \n",
       "Traffic_Signal                                                     False  \n",
       "Turning_Loop                                                       False  \n",
       "Sunrise_Sunset                                                     Night  \n",
       "Civil_Twilight                                                     Night  \n",
       "Nautical_Twilight                                                  Night  \n",
       "Astronomical_Twilight                                              Night  "
      ]
     },
     "execution_count": 10,
     "metadata": {},
     "output_type": "execute_result"
    }
   ],
   "source": [
    "# function to select a few rows of data, convert to a Pandas dataframe, and transpose\n",
    "def preview(df, n=3):\n",
    "    return pd.DataFrame(df.take(n), columns=df.columns).T\n",
    "\n",
    "preview(data)"
   ]
  },
  {
   "cell_type": "markdown",
   "id": "5ff3c963",
   "metadata": {},
   "source": [
    "## Data Exploration"
   ]
  },
  {
   "cell_type": "code",
   "execution_count": 11,
   "id": "5879a56a",
   "metadata": {},
   "outputs": [
    {
     "name": "stdout",
     "output_type": "stream",
     "text": [
      "(261772, 47)\n"
     ]
    }
   ],
   "source": [
    "print((data.count(), len(data.columns)))"
   ]
  },
  {
   "cell_type": "code",
   "execution_count": 12,
   "id": "77b6cd70",
   "metadata": {},
   "outputs": [
    {
     "name": "stderr",
     "output_type": "stream",
     "text": [
      "[Stage 7:>                                                          (0 + 1) / 1]\r"
     ]
    },
    {
     "name": "stdout",
     "output_type": "stream",
     "text": [
      "+-------+---------+------------------+-------------------+--------------------+------------------+------------------+------------------+-------------------+-------------------+--------------------+------------------+-----------------+------+----------+------+------+------------------+-------+----------+------------+-------------------+------------------+------------------+-----------------+------------------+-----------------+--------------+------------------+--------------------+------------------+--------------+--------------+-----------------+---------------------+\n",
      "|summary|       ID|          Severity|         Start_Time|            End_Time|         Start_Lat|         Start_Lng|           End_Lat|            End_Lng|       Distance(mi)|         Description|            Number|           Street|  Side|      City|County| State|           Zipcode|Country|  Timezone|Airport_Code|  Weather_Timestamp|    Temperature(F)|     Wind_Chill(F)|      Humidity(%)|      Pressure(in)|   Visibility(mi)|Wind_Direction|   Wind_Speed(mph)|   Precipitation(in)| Weather_Condition|Sunrise_Sunset|Civil_Twilight|Nautical_Twilight|Astronomical_Twilight|\n",
      "+-------+---------+------------------+-------------------+--------------------+------------------+------------------+------------------+-------------------+-------------------+--------------------+------------------+-----------------+------+----------+------+------+------------------+-------+----------+------------+-------------------+------------------+------------------+-----------------+------------------+-----------------+--------------+------------------+--------------------+------------------+--------------+--------------+-----------------+---------------------+\n",
      "|  count|   261772|            261772|             261772|              261772|            261772|            261772|            261772|             261772|             261772|              261772|             66830|           261772|261772|    261767|261772|261772|            261529| 261772|    261003|      260830|             256732|            254517|            228287|           254237|            255972|           254582|        253850|            244470|              206793|            254502|        261767|        261767|           261767|               261767|\n",
      "|   mean|     null| 2.303665021469065|               null|                null|38.197150128856215| -107.101558679046|38.196982170067876|-107.10150681226774|0.44812440215148874|                null|13756.700523716894|             null|  null|      null|  null|  null| 74390.74209453352|   null|      null|        null|               null|59.628044492116445|58.971233140739415|61.66190995016461|29.259735517947508|9.108034935698518|          null| 7.208072156092689|0.005806627883922385|              null|          null|          null|             null|                 null|\n",
      "| stddev|     null|0.6306407708911306|               null|                null| 4.796147742977204|17.280107589782617| 4.795855185508928| 17.280215875080284| 1.5870376251797498|                null| 44158.20246575629|             null|  null|      null|  null|  null|28270.849921623543|   null|      null|        null|               null| 19.21798931790776| 21.92449590812649|24.15698724355427|1.3535040221408126|3.105686185526548|          null|5.4415766931514415| 0.06322444951029489|              null|          null|          null|             null|                 null|\n",
      "|    min|A-2982119|                 2|2019-01-01 00:00:00| 2019-01-01 00:37:07|         24.571308|       -124.497567|         24.571534|        -124.497829|                0.0|At - Accident inv...|               0.0|0S105 Winfield Rd|     L|Aaronsburg|Acadia|    AL|             01008|     US|US/Central|        K01M|2019-01-01 00:36:00|             -29.0|             -59.0|              1.0|               0.0|              0.0|          CALM|               0.0|                 0.0|      Blowing Dust|           Day|           Day|              Day|                  Day|\n",
      "|    25%|     null|                 2|               null|                null|         34.051464|       -121.313448|         34.051512|        -121.313219|                0.0|                null|            1699.0|             null|  null|      null|  null|  null|           55422.0|   null|      null|        null|               null|              47.0|              46.0|             44.0|             29.13|             10.0|          null|               3.0|                 0.0|              null|          null|          null|             null|                 null|\n",
      "|    50%|     null|                 2|               null|                null|         38.099985|       -117.550444|         38.100368|        -117.550444|              0.066|                null|            5605.0|             null|  null|      null|  null|  null|           90670.0|   null|      null|        null|               null|              61.0|              63.0|             64.0|             29.76|             10.0|          null|               6.9|                 0.0|              null|          null|          null|             null|                 null|\n",
      "|    75%|     null|                 2|               null|                null|          41.94329|         -90.42907|          41.94331|          -90.43045|              0.444|                null|           16601.0|             null|  null|      null|  null|  null|           94545.0|   null|      null|        null|               null|              74.0|              75.0|             82.0|             29.97|             10.0|          null|              10.0|                 0.0|              null|          null|          null|             null|                 null|\n",
      "|    max|A-4239406|                 4|2019-12-31 23:58:17|2020-11-01 00:00:...|          48.99838|         -67.70337|          49.00214|         -67.706448|            152.543|Ramp to to West I...|         9999997.0|          Zuni St|     R|  Zumbrota|  Yuma|    WY|        99401-9712|     US|US/Pacific|        KZZV|2019-12-31 23:56:00|             170.6|             113.0|            100.0|             31.14|            130.0|          West|             169.0|                24.0|Wintry Mix / Windy|         Night|         Night|            Night|                Night|\n",
      "+-------+---------+------------------+-------------------+--------------------+------------------+------------------+------------------+-------------------+-------------------+--------------------+------------------+-----------------+------+----------+------+------+------------------+-------+----------+------------+-------------------+------------------+------------------+-----------------+------------------+-----------------+--------------+------------------+--------------------+------------------+--------------+--------------+-----------------+---------------------+\n",
      "\n"
     ]
    },
    {
     "name": "stderr",
     "output_type": "stream",
     "text": [
      "\r",
      "                                                                                \r"
     ]
    }
   ],
   "source": [
    "data.summary().show()"
   ]
  },
  {
   "cell_type": "markdown",
   "id": "f67676cc",
   "metadata": {},
   "source": [
    "## Data Exploration ( Nulls and Counts)"
   ]
  },
  {
   "cell_type": "markdown",
   "id": "eff16581",
   "metadata": {},
   "source": [
    "1) Finding the count of Nulls in columns in Spark\n",
    "\n",
    "2) Counts of strings for dummies"
   ]
  },
  {
   "cell_type": "code",
   "execution_count": 13,
   "id": "5122fc78",
   "metadata": {},
   "outputs": [],
   "source": [
    "from pyspark.sql.functions import isnan, when, count, col"
   ]
  },
  {
   "cell_type": "code",
   "execution_count": 14,
   "id": "e996e374",
   "metadata": {},
   "outputs": [],
   "source": [
    "import pyspark.sql.functions as F\n",
    "def count_missings(spark_df,sort=True):\n",
    "    \"\"\"\n",
    "    Counts number of nulls and nans in each column\n",
    "    \"\"\"\n",
    "    df = spark_df.select([F.count(F.when(F.isnan(c) | F.isnull(c), c)).alias(c) for (c,c_type) in spark_df.dtypes if c_type not in ('timestamp', 'string', 'date','boolean', 'binary')]).toPandas()\n",
    "\n",
    "    if len(df) == 0:\n",
    "        print(\"There are no any missing values!\")\n",
    "        return None\n",
    "\n",
    "    if sort:\n",
    "        return df.rename(index={0: 'count'}).T.sort_values(\"count\",ascending=False)\n",
    "\n",
    "    return df"
   ]
  },
  {
   "cell_type": "code",
   "execution_count": 15,
   "id": "266d8576",
   "metadata": {},
   "outputs": [
    {
     "name": "stderr",
     "output_type": "stream",
     "text": [
      "                                                                                \r"
     ]
    },
    {
     "data": {
      "text/html": [
       "<div>\n",
       "<style scoped>\n",
       "    .dataframe tbody tr th:only-of-type {\n",
       "        vertical-align: middle;\n",
       "    }\n",
       "\n",
       "    .dataframe tbody tr th {\n",
       "        vertical-align: top;\n",
       "    }\n",
       "\n",
       "    .dataframe thead th {\n",
       "        text-align: right;\n",
       "    }\n",
       "</style>\n",
       "<table border=\"1\" class=\"dataframe\">\n",
       "  <thead>\n",
       "    <tr style=\"text-align: right;\">\n",
       "      <th></th>\n",
       "      <th>count</th>\n",
       "    </tr>\n",
       "  </thead>\n",
       "  <tbody>\n",
       "    <tr>\n",
       "      <th>Number</th>\n",
       "      <td>194942</td>\n",
       "    </tr>\n",
       "    <tr>\n",
       "      <th>Precipitation(in)</th>\n",
       "      <td>54979</td>\n",
       "    </tr>\n",
       "    <tr>\n",
       "      <th>Wind_Chill(F)</th>\n",
       "      <td>33485</td>\n",
       "    </tr>\n",
       "    <tr>\n",
       "      <th>Wind_Speed(mph)</th>\n",
       "      <td>17302</td>\n",
       "    </tr>\n",
       "    <tr>\n",
       "      <th>Humidity(%)</th>\n",
       "      <td>7535</td>\n",
       "    </tr>\n",
       "    <tr>\n",
       "      <th>Temperature(F)</th>\n",
       "      <td>7255</td>\n",
       "    </tr>\n",
       "    <tr>\n",
       "      <th>Visibility(mi)</th>\n",
       "      <td>7190</td>\n",
       "    </tr>\n",
       "    <tr>\n",
       "      <th>Pressure(in)</th>\n",
       "      <td>5800</td>\n",
       "    </tr>\n",
       "    <tr>\n",
       "      <th>Severity</th>\n",
       "      <td>0</td>\n",
       "    </tr>\n",
       "    <tr>\n",
       "      <th>Start_Lat</th>\n",
       "      <td>0</td>\n",
       "    </tr>\n",
       "    <tr>\n",
       "      <th>Start_Lng</th>\n",
       "      <td>0</td>\n",
       "    </tr>\n",
       "    <tr>\n",
       "      <th>End_Lat</th>\n",
       "      <td>0</td>\n",
       "    </tr>\n",
       "    <tr>\n",
       "      <th>End_Lng</th>\n",
       "      <td>0</td>\n",
       "    </tr>\n",
       "    <tr>\n",
       "      <th>Distance(mi)</th>\n",
       "      <td>0</td>\n",
       "    </tr>\n",
       "  </tbody>\n",
       "</table>\n",
       "</div>"
      ],
      "text/plain": [
       "                    count\n",
       "Number             194942\n",
       "Precipitation(in)   54979\n",
       "Wind_Chill(F)       33485\n",
       "Wind_Speed(mph)     17302\n",
       "Humidity(%)          7535\n",
       "Temperature(F)       7255\n",
       "Visibility(mi)       7190\n",
       "Pressure(in)         5800\n",
       "Severity                0\n",
       "Start_Lat               0\n",
       "Start_Lng               0\n",
       "End_Lat                 0\n",
       "End_Lng                 0\n",
       "Distance(mi)            0"
      ]
     },
     "execution_count": 15,
     "metadata": {},
     "output_type": "execute_result"
    }
   ],
   "source": [
    "count_missings(data)"
   ]
  },
  {
   "cell_type": "code",
   "execution_count": 16,
   "id": "5f720440",
   "metadata": {},
   "outputs": [],
   "source": [
    "#To perform SQL queries, the tables have to be registered using the registerTempTable method.\n",
    "data.registerTempTable('data')"
   ]
  },
  {
   "cell_type": "code",
   "execution_count": 18,
   "id": "4869afe3",
   "metadata": {},
   "outputs": [
    {
     "name": "stdout",
     "output_type": "stream",
     "text": [
      "+-----------------+\n",
      "|  avrage_severity|\n",
      "+-----------------+\n",
      "|2.303665021469065|\n",
      "+-----------------+\n",
      "\n"
     ]
    }
   ],
   "source": [
    "avg_sev = spark.sql(r\"\"\"SELECT AVG(Severity) AS avrage_severity \n",
    "                            FROM data\n",
    "                            \"\"\")\n",
    "avg_sev.show()"
   ]
  },
  {
   "cell_type": "code",
   "execution_count": 56,
   "id": "eb8f7d96",
   "metadata": {},
   "outputs": [
    {
     "name": "stderr",
     "output_type": "stream",
     "text": [
      "\r",
      "[Stage 66:===========================================>              (3 + 1) / 4]\r"
     ]
    },
    {
     "name": "stdout",
     "output_type": "stream",
     "text": [
      "+--------+------+\n",
      "|Severity| total|\n",
      "+--------+------+\n",
      "|       2|206659|\n",
      "|       3| 30735|\n",
      "|       4| 24378|\n",
      "+--------+------+\n",
      "\n"
     ]
    },
    {
     "name": "stderr",
     "output_type": "stream",
     "text": [
      "\r",
      "                                                                                \r"
     ]
    }
   ],
   "source": [
    "severity_counts = spark.sql(r\"\"\"SELECT Severity, COUNT(Severity) AS total \n",
    "                                     FROM data \n",
    "                                     GROUP BY Severity \n",
    "                                     ORDER BY total desc \n",
    "                                     \"\"\")\n",
    "severity_counts.show()"
   ]
  },
  {
   "cell_type": "code",
   "execution_count": 57,
   "id": "53bdaad5",
   "metadata": {},
   "outputs": [
    {
     "name": "stderr",
     "output_type": "stream",
     "text": [
      "[Stage 68:===========================================>              (3 + 1) / 4]\r"
     ]
    },
    {
     "name": "stdout",
     "output_type": "stream",
     "text": [
      "+-----------+------+\n",
      "|   Timezone| total|\n",
      "+-----------+------+\n",
      "| US/Pacific|147135|\n",
      "| US/Eastern| 53504|\n",
      "| US/Central| 34023|\n",
      "|US/Mountain| 26341|\n",
      "|       null|     0|\n",
      "+-----------+------+\n",
      "\n"
     ]
    },
    {
     "name": "stderr",
     "output_type": "stream",
     "text": [
      "\r",
      "                                                                                \r"
     ]
    }
   ],
   "source": [
    "# Timezone \n",
    "timezone_counts = spark.sql(r\"\"\"SELECT Timezone, COUNT(Timezone) AS total \n",
    "                                     FROM data \n",
    "                                     GROUP BY Timezone \n",
    "                                     ORDER BY total desc \n",
    "                                     \"\"\")\n",
    "timezone_counts.show()\n"
   ]
  },
  {
   "cell_type": "code",
   "execution_count": 19,
   "id": "28fab47b",
   "metadata": {},
   "outputs": [
    {
     "name": "stderr",
     "output_type": "stream",
     "text": [
      "[Stage 13:=================================>                    (125 + 4) / 200]\r"
     ]
    },
    {
     "name": "stdout",
     "output_type": "stream",
     "text": [
      "+-----+------+\n",
      "|State| total|\n",
      "+-----+------+\n",
      "|   CA|108309|\n",
      "|   OR| 35121|\n",
      "|   UT| 15914|\n",
      "|   MN| 11329|\n",
      "|   FL|  9972|\n",
      "|   NY|  6925|\n",
      "|   TX|  6737|\n",
      "|   IL|  6447|\n",
      "|   CO|  6088|\n",
      "|   GA|  5386|\n",
      "|   MI|  5032|\n",
      "|   WA|  4455|\n",
      "|   VA|  4246|\n",
      "|   NJ|  3744|\n",
      "|   MD|  3654|\n",
      "|   AZ|  2715|\n",
      "|   NC|  2644|\n",
      "|   IN|  1803|\n",
      "|   MO|  1691|\n",
      "|   TN|  1671|\n",
      "+-----+------+\n",
      "only showing top 20 rows\n",
      "\n"
     ]
    },
    {
     "name": "stderr",
     "output_type": "stream",
     "text": [
      "\r",
      "[Stage 13:================================================>     (180 + 6) / 200]\r",
      "\r",
      "                                                                                \r"
     ]
    }
   ],
   "source": [
    "state_counts = spark.sql(r\"\"\"SELECT State, COUNT(state) AS total \n",
    "                                     FROM data \n",
    "                                     GROUP BY state \n",
    "                                     ORDER BY total desc \n",
    "                                     \"\"\")\n",
    "state_counts.show()"
   ]
  },
  {
   "cell_type": "code",
   "execution_count": 20,
   "id": "e0be15a9",
   "metadata": {},
   "outputs": [],
   "source": [
    "#NOTE: Since we have the column with Timezone, no need to catagorize the states for dummies!"
   ]
  },
  {
   "cell_type": "code",
   "execution_count": 21,
   "id": "908812a5",
   "metadata": {},
   "outputs": [
    {
     "name": "stdout",
     "output_type": "stream",
     "text": [
      "+----+------+\n",
      "|Side| total|\n",
      "+----+------+\n",
      "|   R|228209|\n",
      "|   L| 33563|\n",
      "+----+------+\n",
      "\n"
     ]
    }
   ],
   "source": [
    "# what side of the road are accidents happening?\n",
    "\n",
    "Side_counts = spark.sql(r\"\"\"SELECT Side, COUNT(Side) AS total \n",
    "                                     FROM data \n",
    "                                     GROUP BY Side \n",
    "                                     ORDER BY total desc \n",
    "                                     \"\"\")\n",
    "Side_counts.show()"
   ]
  },
  {
   "cell_type": "code",
   "execution_count": 22,
   "id": "b0488919",
   "metadata": {},
   "outputs": [
    {
     "name": "stdout",
     "output_type": "stream",
     "text": [
      "+-----------+------+\n",
      "|   Timezone| total|\n",
      "+-----------+------+\n",
      "| US/Pacific|147135|\n",
      "| US/Eastern| 53504|\n",
      "| US/Central| 34023|\n",
      "|US/Mountain| 26341|\n",
      "|       null|     0|\n",
      "+-----------+------+\n",
      "\n"
     ]
    }
   ],
   "source": [
    "timezone_counts = spark.sql(r\"\"\"SELECT Timezone, COUNT(Timezone) AS total \n",
    "                                     FROM data \n",
    "                                     GROUP BY Timezone \n",
    "                                     ORDER BY total desc \n",
    "                                     \"\"\")\n",
    "timezone_counts.show()"
   ]
  },
  {
   "cell_type": "code",
   "execution_count": 23,
   "id": "e6804d37",
   "metadata": {},
   "outputs": [
    {
     "name": "stderr",
     "output_type": "stream",
     "text": [
      "\r",
      "[Stage 18:>                                                         (0 + 4) / 4]\r"
     ]
    },
    {
     "name": "stdout",
     "output_type": "stream",
     "text": [
      "+------------+-----+\n",
      "|Airport_Code|total|\n",
      "+------------+-----+\n",
      "|        KCQT| 7088|\n",
      "|        KU42| 4541|\n",
      "|        KFUL| 4236|\n",
      "|        KEMT| 4073|\n",
      "|        KSNA| 3881|\n",
      "|        KPDX| 3847|\n",
      "|        KHHR| 3488|\n",
      "|        KMCC| 3044|\n",
      "|        KSBD| 3006|\n",
      "|        KOAK| 2939|\n",
      "|        KCCR| 2889|\n",
      "|        KSAC| 2871|\n",
      "|        KPOC| 2860|\n",
      "|        KEUG| 2847|\n",
      "|        KSLC| 2841|\n",
      "|        KRAL| 2679|\n",
      "|        KLGB| 2602|\n",
      "|        KSJC| 2577|\n",
      "|        KONT| 2452|\n",
      "|        KMDW| 2122|\n",
      "+------------+-----+\n",
      "only showing top 20 rows\n",
      "\n"
     ]
    },
    {
     "name": "stderr",
     "output_type": "stream",
     "text": [
      "\r",
      "[Stage 19:==============================================>       (171 + 4) / 200]\r",
      "\r",
      "                                                                                \r"
     ]
    }
   ],
   "source": [
    "airportcode_counts = spark.sql(r\"\"\"SELECT Airport_Code, COUNT(Airport_Code) AS total \n",
    "                                     FROM data \n",
    "                                     GROUP BY Airport_Code \n",
    "                                     ORDER BY total desc \n",
    "                                     \"\"\")\n",
    "airportcode_counts.show()"
   ]
  },
  {
   "cell_type": "code",
   "execution_count": 24,
   "id": "83a1c5c6",
   "metadata": {},
   "outputs": [
    {
     "name": "stderr",
     "output_type": "stream",
     "text": [
      "\r",
      "[Stage 20:==============>                                           (1 + 3) / 4]\r"
     ]
    },
    {
     "name": "stdout",
     "output_type": "stream",
     "text": [
      "+--------------+-----+\n",
      "|Wind_Direction|total|\n",
      "+--------------+-----+\n",
      "|          CALM|42293|\n",
      "|             W|18306|\n",
      "|           WNW|14583|\n",
      "|             S|14104|\n",
      "|            NW|13957|\n",
      "|           WSW|12445|\n",
      "|           NNW|11774|\n",
      "|           VAR|11382|\n",
      "|           SSW|11340|\n",
      "|           SSE|10947|\n",
      "|            SW|10776|\n",
      "|             N|10163|\n",
      "|            SE| 9316|\n",
      "|             E| 9271|\n",
      "|          Calm| 8601|\n",
      "|           ESE| 8214|\n",
      "|           ENE| 7407|\n",
      "|           NNE| 6662|\n",
      "|            NE| 6654|\n",
      "|         North| 4003|\n",
      "|         South| 3723|\n",
      "|          West| 3438|\n",
      "|          East| 2968|\n",
      "|      Variable| 1523|\n",
      "|          null|    0|\n",
      "+--------------+-----+\n",
      "\n"
     ]
    },
    {
     "name": "stderr",
     "output_type": "stream",
     "text": [
      "\r",
      "                                                                                \r"
     ]
    }
   ],
   "source": [
    "wind_dir_counts = spark.sql(r\"\"\"SELECT Wind_Direction, COUNT(Wind_Direction) AS total \n",
    "                                     FROM data \n",
    "                                     GROUP BY Wind_Direction \n",
    "                                     ORDER BY total desc \n",
    "                                     \"\"\")\n",
    "wind_dir_counts.show(40)"
   ]
  },
  {
   "cell_type": "code",
   "execution_count": 27,
   "id": "c72807a8",
   "metadata": {},
   "outputs": [
    {
     "name": "stderr",
     "output_type": "stream",
     "text": [
      "\r",
      "[Stage 26:>                                                         (0 + 4) / 4]\r"
     ]
    },
    {
     "name": "stdout",
     "output_type": "stream",
     "text": [
      "+--------------+-----+\n",
      "|          City|total|\n",
      "+--------------+-----+\n",
      "|   Los Angeles| 9380|\n",
      "|      Portland| 5317|\n",
      "|    Sacramento| 4916|\n",
      "|Salt Lake City| 3719|\n",
      "|     San Diego| 3516|\n",
      "|   Minneapolis| 2610|\n",
      "|      San Jose| 2485|\n",
      "|       Atlanta| 2198|\n",
      "|    Saint Paul| 2159|\n",
      "|        Denver| 2137|\n",
      "+--------------+-----+\n",
      "only showing top 10 rows\n",
      "\n"
     ]
    },
    {
     "name": "stderr",
     "output_type": "stream",
     "text": [
      "\r",
      "[Stage 27:===================================================>  (190 + 4) / 200]\r",
      "\r",
      "                                                                                \r"
     ]
    }
   ],
   "source": [
    "city_accident_counts = spark.sql(r\"\"\"SELECT City, COUNT(City) AS total \n",
    "                                     FROM data \n",
    "                                     GROUP BY City \n",
    "                                     ORDER BY total desc \n",
    "                                     \"\"\")\n",
    "city_accident_counts.show(10)"
   ]
  },
  {
   "cell_type": "code",
   "execution_count": 55,
   "id": "22d74b5b",
   "metadata": {},
   "outputs": [
    {
     "name": "stderr",
     "output_type": "stream",
     "text": [
      "[Stage 64:=============================>                            (2 + 2) / 4]\r"
     ]
    },
    {
     "name": "stdout",
     "output_type": "stream",
     "text": [
      "+--------------------+-----+\n",
      "|   Weather_Condition|total|\n",
      "+--------------------+-----+\n",
      "|                Fair|99281|\n",
      "|              Cloudy|31830|\n",
      "|       Mostly Cloudy|30455|\n",
      "|       Partly Cloudy|27659|\n",
      "|               Clear|13402|\n",
      "|            Overcast|12153|\n",
      "|          Light Rain|11997|\n",
      "|          Light Snow| 5711|\n",
      "|                Haze| 3273|\n",
      "|                 Fog| 3263|\n",
      "|    Scattered Clouds| 3125|\n",
      "|                Rain| 2779|\n",
      "|        Fair / Windy| 1307|\n",
      "|          Heavy Rain|  983|\n",
      "|                Snow|  838|\n",
      "|      Cloudy / Windy|  586|\n",
      "|       Light Drizzle|  535|\n",
      "|Mostly Cloudy / W...|  473|\n",
      "|Partly Cloudy / W...|  402|\n",
      "|Thunder in the Vi...|  368|\n",
      "+--------------------+-----+\n",
      "only showing top 20 rows\n",
      "\n"
     ]
    },
    {
     "name": "stderr",
     "output_type": "stream",
     "text": [
      "\r",
      "                                                                                \r"
     ]
    }
   ],
   "source": [
    "# What are the weather conditions at the time of accicent occurence\n",
    "weather_conditions = spark.sql(r\"\"\"SELECT Weather_Condition, COUNT(Weather_Condition) AS total \n",
    "                                     FROM data \n",
    "                                     GROUP BY Weather_Condition \n",
    "                                     ORDER BY total desc \n",
    "                                     \"\"\")\n",
    "\n",
    "weather_conditions.show()"
   ]
  },
  {
   "cell_type": "markdown",
   "id": "c81d2608",
   "metadata": {},
   "source": [
    "### Preprocessing "
   ]
  },
  {
   "cell_type": "code",
   "execution_count": 77,
   "id": "dde5fbd4",
   "metadata": {},
   "outputs": [
    {
     "name": "stderr",
     "output_type": "stream",
     "text": [
      "                                                                                \r"
     ]
    }
   ],
   "source": [
    "# making a copy of the pyspark dataframe - need to take it to pandas and then copy and bring back\n",
    "schema = data.schema\n",
    "X_pd = data.toPandas()\n",
    "data_cp = spark.createDataFrame(X_pd,schema=schema)\n",
    "del X_pd"
   ]
  },
  {
   "cell_type": "code",
   "execution_count": 78,
   "id": "f30ea022",
   "metadata": {},
   "outputs": [],
   "source": [
    "# Checking for the correct copy\n",
    "#preview(data_cp)"
   ]
  },
  {
   "cell_type": "code",
   "execution_count": 79,
   "id": "5a1e7087",
   "metadata": {},
   "outputs": [
    {
     "name": "stdout",
     "output_type": "stream",
     "text": [
      "['ID', 'Severity', 'Start_Time', 'End_Time', 'Start_Lat', 'Start_Lng', 'End_Lat', 'End_Lng', 'Distance(mi)', 'Description', 'Number', 'Street', 'Side', 'City', 'County', 'State', 'Zipcode', 'Country', 'Timezone', 'Airport_Code', 'Weather_Timestamp', 'Temperature(F)', 'Wind_Chill(F)', 'Humidity(%)', 'Pressure(in)', 'Visibility(mi)', 'Wind_Direction', 'Wind_Speed(mph)', 'Precipitation(in)', 'Weather_Condition', 'Amenity', 'Bump', 'Crossing', 'Give_Way', 'Junction', 'No_Exit', 'Railway', 'Roundabout', 'Station', 'Stop', 'Traffic_Calming', 'Traffic_Signal', 'Turning_Loop', 'Sunrise_Sunset', 'Civil_Twilight', 'Nautical_Twilight', 'Astronomical_Twilight']\n"
     ]
    }
   ],
   "source": [
    "print(data.columns)"
   ]
  },
  {
   "cell_type": "code",
   "execution_count": 80,
   "id": "81259613",
   "metadata": {},
   "outputs": [
    {
     "data": {
      "text/plain": [
       "\"#Nulls in all the data\\nDict_Null_data = {col:data.filter(isnan(data[col[0]])).count() for col in data.dtypes if col[1] != 'boolean'}\\nDict_Null_data\""
      ]
     },
     "execution_count": 80,
     "metadata": {},
     "output_type": "execute_result"
    }
   ],
   "source": [
    "'''#Nulls in all the data\n",
    "Dict_Null_data = {col:data.filter(isnan(data[col[0]])).count() for col in data.dtypes if col[1] != 'boolean'}\n",
    "Dict_Null_data'''"
   ]
  },
  {
   "cell_type": "markdown",
   "id": "161fb5d1",
   "metadata": {},
   "source": [
    "### deleting unncessary columns..."
   ]
  },
  {
   "cell_type": "code",
   "execution_count": 63,
   "id": "1fe91716",
   "metadata": {},
   "outputs": [],
   "source": [
    "from pyspark.sql.functions import *"
   ]
  },
  {
   "cell_type": "code",
   "execution_count": 81,
   "id": "408b8718",
   "metadata": {},
   "outputs": [],
   "source": [
    "cols_to_drop = ['ID','Start_Time','End_Time','Description','Street',\n",
    "                'Weather_Timestamp','Zipcode','County','City','Airport_Code','Precipitation(in)'] \n",
    "# Weather_Condition to be processed again after cleaning"
   ]
  },
  {
   "cell_type": "code",
   "execution_count": 82,
   "id": "1415f9ac",
   "metadata": {},
   "outputs": [],
   "source": [
    "data_cp = data_cp.drop(*cols_to_drop)"
   ]
  },
  {
   "cell_type": "code",
   "execution_count": 83,
   "id": "d60bb52e",
   "metadata": {},
   "outputs": [
    {
     "name": "stdout",
     "output_type": "stream",
     "text": [
      "['Severity', 'Start_Lat', 'Start_Lng', 'End_Lat', 'End_Lng', 'Distance(mi)', 'Number', 'Side', 'State', 'Country', 'Timezone', 'Temperature(F)', 'Wind_Chill(F)', 'Humidity(%)', 'Pressure(in)', 'Visibility(mi)', 'Wind_Direction', 'Wind_Speed(mph)', 'Weather_Condition', 'Amenity', 'Bump', 'Crossing', 'Give_Way', 'Junction', 'No_Exit', 'Railway', 'Roundabout', 'Station', 'Stop', 'Traffic_Calming', 'Traffic_Signal', 'Turning_Loop', 'Sunrise_Sunset', 'Civil_Twilight', 'Nautical_Twilight', 'Astronomical_Twilight']\n"
     ]
    }
   ],
   "source": [
    "print(data_cp.columns)"
   ]
  },
  {
   "cell_type": "code",
   "execution_count": 88,
   "id": "5d16bb6d",
   "metadata": {},
   "outputs": [],
   "source": [
    "#Dict_Null = {col:data_cp.filter(isnan(data_cp[col[0]])).count() for col in data_cp.dtypes if col[1] != 'boolean'}\n",
    "#Dict_Null"
   ]
  },
  {
   "cell_type": "code",
   "execution_count": 85,
   "id": "16b1fc3f",
   "metadata": {},
   "outputs": [],
   "source": [
    "# Replace nan with Nulls\n",
    "columns = data_cp.dtypes\n",
    "for cols, typ in columns:\n",
    "    if typ != 'boolean':\n",
    "        data_cp = data_cp.withColumn(cols,when(isnan(col(cols)),None).otherwise(col(cols)))"
   ]
  },
  {
   "cell_type": "code",
   "execution_count": 87,
   "id": "b4e95e2a",
   "metadata": {},
   "outputs": [],
   "source": [
    "#Dict_Null = {col:data_cp.filter(isnan(data_cp[col[0]])).count() for col in data_cp.dtypes if col[1] != 'boolean'}\n",
    "#Dict_Null"
   ]
  },
  {
   "cell_type": "code",
   "execution_count": 89,
   "id": "d0c174a0",
   "metadata": {},
   "outputs": [],
   "source": [
    "label = 'Severity'\n",
    "string_cols =  [cols[0] for cols in data_cp.dtypes if cols[1] == \"string\" ]\n",
    "num_cols = [cols[0] for cols in data_cp.dtypes if cols[1] == \"int\" or cols[1] == \"double\" ]\n",
    "num_cols.remove(label)\n",
    "bool_cols = [cols[0] for cols in data_cp.dtypes if cols[1] == \"boolean\"]\n",
    "\n",
    "# string_cols,\n",
    "# num_cols\n",
    "# bool_cols"
   ]
  },
  {
   "cell_type": "code",
   "execution_count": 90,
   "id": "ed8c11ce",
   "metadata": {},
   "outputs": [],
   "source": [
    "data_cp = data_cp.fillna(\"unknown\",string_cols)\n",
    "data_cp = data_cp.fillna(0,num_cols)"
   ]
  },
  {
   "cell_type": "code",
   "execution_count": 91,
   "id": "9d58a6b0",
   "metadata": {},
   "outputs": [
    {
     "name": "stderr",
     "output_type": "stream",
     "text": [
      "21/12/12 12:04:39 WARN TaskSetManager: Stage 299 contains a task of very large size (23798 KiB). The maximum recommended task size is 1000 KiB.\n",
      "21/12/12 12:04:46 WARN TaskSetManager: Stage 337 contains a task of very large size (23798 KiB). The maximum recommended task size is 1000 KiB.\n",
      "21/12/12 12:04:48 WARN TaskSetManager: Stage 339 contains a task of very large size (23798 KiB). The maximum recommended task size is 1000 KiB.\n",
      "21/12/12 12:04:50 WARN TaskSetManager: Stage 341 contains a task of very large size (23798 KiB). The maximum recommended task size is 1000 KiB.\n",
      "21/12/12 12:04:51 WARN TaskSetManager: Stage 343 contains a task of very large size (23798 KiB). The maximum recommended task size is 1000 KiB.\n",
      "21/12/12 12:04:53 WARN TaskSetManager: Stage 345 contains a task of very large size (23798 KiB). The maximum recommended task size is 1000 KiB.\n",
      "21/12/12 12:04:55 WARN TaskSetManager: Stage 347 contains a task of very large size (23798 KiB). The maximum recommended task size is 1000 KiB.\n",
      "21/12/12 12:04:57 WARN TaskSetManager: Stage 349 contains a task of very large size (23798 KiB). The maximum recommended task size is 1000 KiB.\n",
      "21/12/12 12:04:59 WARN TaskSetManager: Stage 351 contains a task of very large size (23798 KiB). The maximum recommended task size is 1000 KiB.\n",
      "21/12/12 12:05:01 WARN TaskSetManager: Stage 353 contains a task of very large size (23798 KiB). The maximum recommended task size is 1000 KiB.\n",
      "21/12/12 12:05:03 WARN TaskSetManager: Stage 355 contains a task of very large size (23798 KiB). The maximum recommended task size is 1000 KiB.\n",
      "21/12/12 12:05:05 WARN TaskSetManager: Stage 357 contains a task of very large size (23798 KiB). The maximum recommended task size is 1000 KiB.\n",
      "21/12/12 12:05:07 WARN TaskSetManager: Stage 359 contains a task of very large size (23798 KiB). The maximum recommended task size is 1000 KiB.\n",
      "21/12/12 12:05:09 WARN TaskSetManager: Stage 361 contains a task of very large size (23798 KiB). The maximum recommended task size is 1000 KiB.\n",
      "[Stage 361:>                                                        (0 + 4) / 4]\r"
     ]
    },
    {
     "name": "stdout",
     "output_type": "stream",
     "text": [
      "CPU times: user 61.4 ms, sys: 31.8 ms, total: 93.2 ms\n",
      "Wall time: 32.1 s\n"
     ]
    },
    {
     "name": "stderr",
     "output_type": "stream",
     "text": [
      "\r",
      "                                                                                \r"
     ]
    },
    {
     "data": {
      "text/plain": [
       "{('Severity', 'int'): 0,\n",
       " ('Start_Lat', 'double'): 0,\n",
       " ('Start_Lng', 'double'): 0,\n",
       " ('End_Lat', 'double'): 0,\n",
       " ('End_Lng', 'double'): 0,\n",
       " ('Distance(mi)', 'double'): 0,\n",
       " ('Number', 'double'): 0,\n",
       " ('Side', 'string'): 0,\n",
       " ('State', 'string'): 0,\n",
       " ('Country', 'string'): 0,\n",
       " ('Timezone', 'string'): 0,\n",
       " ('Temperature(F)', 'double'): 0,\n",
       " ('Wind_Chill(F)', 'double'): 0,\n",
       " ('Humidity(%)', 'double'): 0,\n",
       " ('Pressure(in)', 'double'): 0,\n",
       " ('Visibility(mi)', 'double'): 0,\n",
       " ('Wind_Direction', 'string'): 0,\n",
       " ('Wind_Speed(mph)', 'double'): 0,\n",
       " ('Weather_Condition', 'string'): 0,\n",
       " ('Amenity', 'boolean'): 0,\n",
       " ('Bump', 'boolean'): 0,\n",
       " ('Crossing', 'boolean'): 0,\n",
       " ('Give_Way', 'boolean'): 0,\n",
       " ('Junction', 'boolean'): 0,\n",
       " ('No_Exit', 'boolean'): 0,\n",
       " ('Railway', 'boolean'): 0,\n",
       " ('Roundabout', 'boolean'): 0,\n",
       " ('Station', 'boolean'): 0,\n",
       " ('Stop', 'boolean'): 0,\n",
       " ('Traffic_Calming', 'boolean'): 0,\n",
       " ('Traffic_Signal', 'boolean'): 0,\n",
       " ('Turning_Loop', 'boolean'): 0,\n",
       " ('Sunrise_Sunset', 'string'): 0,\n",
       " ('Civil_Twilight', 'string'): 0,\n",
       " ('Nautical_Twilight', 'string'): 0,\n",
       " ('Astronomical_Twilight', 'string'): 0}"
      ]
     },
     "execution_count": 91,
     "metadata": {},
     "output_type": "execute_result"
    }
   ],
   "source": [
    "%%time \n",
    "Dict_Null3 = {col:data_cp.filter(isnull(data_cp[col[0]])).count() for col in data_cp.dtypes }\n",
    "Dict_Null3"
   ]
  },
  {
   "cell_type": "code",
   "execution_count": 92,
   "id": "58778d6d",
   "metadata": {},
   "outputs": [],
   "source": [
    "for c in bool_cols:\n",
    "    data_cp = data_cp.withColumn(c,col(c).cast(\"integer\"))"
   ]
  },
  {
   "cell_type": "markdown",
   "id": "485380d5",
   "metadata": {},
   "source": [
    "# Train- Test Split - Severity"
   ]
  },
  {
   "cell_type": "code",
   "execution_count": 95,
   "id": "803cec65",
   "metadata": {},
   "outputs": [
    {
     "name": "stderr",
     "output_type": "stream",
     "text": [
      "21/12/12 12:12:46 WARN TaskSetManager: Stage 375 contains a task of very large size (23798 KiB). The maximum recommended task size is 1000 KiB.\n",
      "21/12/12 12:12:53 WARN TaskSetManager: Stage 377 contains a task of very large size (23798 KiB). The maximum recommended task size is 1000 KiB.\n",
      "                                                                                \r"
     ]
    },
    {
     "data": {
      "text/plain": [
       "(183405, 78367)"
      ]
     },
     "execution_count": 95,
     "metadata": {},
     "output_type": "execute_result"
    }
   ],
   "source": [
    "(train, test) = data_cp.randomSplit([0.7, 0.3])\n",
    "train.count(), test.count()"
   ]
  },
  {
   "cell_type": "markdown",
   "id": "50104fde",
   "metadata": {},
   "source": [
    "### Modeling "
   ]
  },
  {
   "cell_type": "code",
   "execution_count": 97,
   "id": "648205a5",
   "metadata": {},
   "outputs": [],
   "source": [
    "from pyspark.ml.feature import StringIndexer, VectorAssembler\n",
    "from pyspark.ml import Pipeline\n",
    "from pyspark.ml.classification import LogisticRegression\n",
    "from pyspark.ml.evaluation import MulticlassClassificationEvaluator"
   ]
  },
  {
   "cell_type": "code",
   "execution_count": 98,
   "id": "5fce174d",
   "metadata": {},
   "outputs": [],
   "source": [
    "sIndexer = [StringIndexer(inputCol=cols, outputCol=cols+\"Index\") for cols in  string_cols]"
   ]
  },
  {
   "cell_type": "code",
   "execution_count": 99,
   "id": "e536a6a1",
   "metadata": {},
   "outputs": [],
   "source": [
    "assembler = VectorAssembler(inputCols=[s.getOutputCol() for s in sIndexer]+bool_cols+num_cols, outputCol='features')"
   ]
  },
  {
   "cell_type": "markdown",
   "id": "a50e750e",
   "metadata": {},
   "source": [
    "## Logistic Regression"
   ]
  },
  {
   "cell_type": "code",
   "execution_count": 100,
   "id": "17e2a07e",
   "metadata": {},
   "outputs": [],
   "source": [
    "lr = LogisticRegression(featuresCol=\"features\", labelCol=label)"
   ]
  },
  {
   "cell_type": "code",
   "execution_count": 101,
   "id": "e9106296",
   "metadata": {},
   "outputs": [
    {
     "name": "stderr",
     "output_type": "stream",
     "text": [
      "21/12/12 12:16:50 WARN TaskSetManager: Stage 379 contains a task of very large size (23798 KiB). The maximum recommended task size is 1000 KiB.\n",
      "21/12/12 12:16:58 WARN TaskSetManager: Stage 381 contains a task of very large size (23798 KiB). The maximum recommended task size is 1000 KiB.\n",
      "21/12/12 12:17:06 WARN TaskSetManager: Stage 383 contains a task of very large size (23798 KiB). The maximum recommended task size is 1000 KiB.\n",
      "21/12/12 12:17:14 WARN TaskSetManager: Stage 385 contains a task of very large size (23798 KiB). The maximum recommended task size is 1000 KiB.\n",
      "21/12/12 12:17:22 WARN TaskSetManager: Stage 387 contains a task of very large size (23798 KiB). The maximum recommended task size is 1000 KiB.\n",
      "21/12/12 12:17:32 WARN TaskSetManager: Stage 389 contains a task of very large size (23798 KiB). The maximum recommended task size is 1000 KiB.\n",
      "21/12/12 12:17:41 WARN TaskSetManager: Stage 391 contains a task of very large size (23798 KiB). The maximum recommended task size is 1000 KiB.\n",
      "21/12/12 12:17:48 WARN TaskSetManager: Stage 393 contains a task of very large size (23798 KiB). The maximum recommended task size is 1000 KiB.\n",
      "21/12/12 12:17:55 WARN TaskSetManager: Stage 395 contains a task of very large size (23798 KiB). The maximum recommended task size is 1000 KiB.\n",
      "21/12/12 12:18:02 WARN TaskSetManager: Stage 397 contains a task of very large size (23798 KiB). The maximum recommended task size is 1000 KiB.\n",
      "21/12/12 12:18:09 WARN TaskSetManager: Stage 399 contains a task of very large size (23798 KiB). The maximum recommended task size is 1000 KiB.\n",
      "21/12/12 12:18:21 WARN TaskSetManager: Stage 400 contains a task of very large size (23798 KiB). The maximum recommended task size is 1000 KiB.\n",
      "21/12/12 12:18:29 WARN BLAS: Failed to load implementation from: com.github.fommil.netlib.NativeSystemBLAS\n",
      "21/12/12 12:18:29 WARN BLAS: Failed to load implementation from: com.github.fommil.netlib.NativeRefBLAS\n",
      "21/12/12 12:18:29 WARN TaskSetManager: Stage 401 contains a task of very large size (23798 KiB). The maximum recommended task size is 1000 KiB.\n",
      "21/12/12 12:18:30 WARN TaskSetManager: Stage 402 contains a task of very large size (23798 KiB). The maximum recommended task size is 1000 KiB.\n",
      "21/12/12 12:18:30 WARN TaskSetManager: Stage 403 contains a task of very large size (23798 KiB). The maximum recommended task size is 1000 KiB.\n",
      "21/12/12 12:18:30 WARN TaskSetManager: Stage 404 contains a task of very large size (23798 KiB). The maximum recommended task size is 1000 KiB.\n",
      "21/12/12 12:18:31 WARN TaskSetManager: Stage 405 contains a task of very large size (23798 KiB). The maximum recommended task size is 1000 KiB.\n",
      "21/12/12 12:18:31 WARN TaskSetManager: Stage 406 contains a task of very large size (23798 KiB). The maximum recommended task size is 1000 KiB.\n",
      "21/12/12 12:18:32 WARN TaskSetManager: Stage 407 contains a task of very large size (23798 KiB). The maximum recommended task size is 1000 KiB.\n",
      "21/12/12 12:18:33 WARN TaskSetManager: Stage 408 contains a task of very large size (23798 KiB). The maximum recommended task size is 1000 KiB.\n",
      "21/12/12 12:18:33 WARN TaskSetManager: Stage 409 contains a task of very large size (23798 KiB). The maximum recommended task size is 1000 KiB.\n",
      "21/12/12 12:18:33 WARN TaskSetManager: Stage 410 contains a task of very large size (23798 KiB). The maximum recommended task size is 1000 KiB.\n",
      "21/12/12 12:18:33 WARN TaskSetManager: Stage 411 contains a task of very large size (23798 KiB). The maximum recommended task size is 1000 KiB.\n",
      "21/12/12 12:18:34 WARN TaskSetManager: Stage 412 contains a task of very large size (23798 KiB). The maximum recommended task size is 1000 KiB.\n",
      "21/12/12 12:18:34 WARN TaskSetManager: Stage 413 contains a task of very large size (23798 KiB). The maximum recommended task size is 1000 KiB.\n",
      "21/12/12 12:18:34 WARN TaskSetManager: Stage 414 contains a task of very large size (23798 KiB). The maximum recommended task size is 1000 KiB.\n",
      "21/12/12 12:18:35 WARN TaskSetManager: Stage 415 contains a task of very large size (23798 KiB). The maximum recommended task size is 1000 KiB.\n",
      "21/12/12 12:18:35 WARN TaskSetManager: Stage 416 contains a task of very large size (23798 KiB). The maximum recommended task size is 1000 KiB.\n",
      "21/12/12 12:18:35 WARN TaskSetManager: Stage 417 contains a task of very large size (23798 KiB). The maximum recommended task size is 1000 KiB.\n",
      "21/12/12 12:18:36 WARN TaskSetManager: Stage 418 contains a task of very large size (23798 KiB). The maximum recommended task size is 1000 KiB.\n",
      "21/12/12 12:18:36 WARN TaskSetManager: Stage 419 contains a task of very large size (23798 KiB). The maximum recommended task size is 1000 KiB.\n",
      "21/12/12 12:18:36 WARN TaskSetManager: Stage 420 contains a task of very large size (23798 KiB). The maximum recommended task size is 1000 KiB.\n",
      "21/12/12 12:18:37 WARN TaskSetManager: Stage 421 contains a task of very large size (23798 KiB). The maximum recommended task size is 1000 KiB.\n",
      "21/12/12 12:18:37 WARN TaskSetManager: Stage 422 contains a task of very large size (23798 KiB). The maximum recommended task size is 1000 KiB.\n",
      "21/12/12 12:18:37 WARN TaskSetManager: Stage 423 contains a task of very large size (23798 KiB). The maximum recommended task size is 1000 KiB.\n",
      "21/12/12 12:18:37 WARN TaskSetManager: Stage 424 contains a task of very large size (23798 KiB). The maximum recommended task size is 1000 KiB.\n",
      "21/12/12 12:18:38 WARN TaskSetManager: Stage 425 contains a task of very large size (23798 KiB). The maximum recommended task size is 1000 KiB.\n",
      "21/12/12 12:18:38 WARN TaskSetManager: Stage 426 contains a task of very large size (23798 KiB). The maximum recommended task size is 1000 KiB.\n",
      "21/12/12 12:18:38 WARN TaskSetManager: Stage 427 contains a task of very large size (23798 KiB). The maximum recommended task size is 1000 KiB.\n",
      "21/12/12 12:18:39 WARN TaskSetManager: Stage 428 contains a task of very large size (23798 KiB). The maximum recommended task size is 1000 KiB.\n",
      "21/12/12 12:18:39 WARN TaskSetManager: Stage 429 contains a task of very large size (23798 KiB). The maximum recommended task size is 1000 KiB.\n",
      "21/12/12 12:18:39 WARN TaskSetManager: Stage 430 contains a task of very large size (23798 KiB). The maximum recommended task size is 1000 KiB.\n",
      "21/12/12 12:18:40 WARN TaskSetManager: Stage 431 contains a task of very large size (23798 KiB). The maximum recommended task size is 1000 KiB.\n",
      "21/12/12 12:18:40 WARN TaskSetManager: Stage 432 contains a task of very large size (23798 KiB). The maximum recommended task size is 1000 KiB.\n",
      "21/12/12 12:18:42 WARN TaskSetManager: Stage 433 contains a task of very large size (23798 KiB). The maximum recommended task size is 1000 KiB.\n",
      "21/12/12 12:18:42 WARN TaskSetManager: Stage 434 contains a task of very large size (23798 KiB). The maximum recommended task size is 1000 KiB.\n",
      "21/12/12 12:18:43 WARN TaskSetManager: Stage 435 contains a task of very large size (23798 KiB). The maximum recommended task size is 1000 KiB.\n",
      "21/12/12 12:18:43 WARN TaskSetManager: Stage 436 contains a task of very large size (23798 KiB). The maximum recommended task size is 1000 KiB.\n",
      "21/12/12 12:18:44 WARN TaskSetManager: Stage 437 contains a task of very large size (23798 KiB). The maximum recommended task size is 1000 KiB.\n",
      "21/12/12 12:18:44 WARN TaskSetManager: Stage 438 contains a task of very large size (23798 KiB). The maximum recommended task size is 1000 KiB.\n",
      "21/12/12 12:18:44 WARN TaskSetManager: Stage 439 contains a task of very large size (23798 KiB). The maximum recommended task size is 1000 KiB.\n",
      "21/12/12 12:18:44 WARN TaskSetManager: Stage 440 contains a task of very large size (23798 KiB). The maximum recommended task size is 1000 KiB.\n",
      "21/12/12 12:18:45 WARN TaskSetManager: Stage 441 contains a task of very large size (23798 KiB). The maximum recommended task size is 1000 KiB.\n",
      "21/12/12 12:18:45 WARN TaskSetManager: Stage 442 contains a task of very large size (23798 KiB). The maximum recommended task size is 1000 KiB.\n",
      "21/12/12 12:18:46 WARN TaskSetManager: Stage 443 contains a task of very large size (23798 KiB). The maximum recommended task size is 1000 KiB.\n",
      "21/12/12 12:18:46 WARN TaskSetManager: Stage 444 contains a task of very large size (23798 KiB). The maximum recommended task size is 1000 KiB.\n"
     ]
    },
    {
     "name": "stderr",
     "output_type": "stream",
     "text": [
      "21/12/12 12:18:46 WARN TaskSetManager: Stage 445 contains a task of very large size (23798 KiB). The maximum recommended task size is 1000 KiB.\n",
      "21/12/12 12:18:47 WARN TaskSetManager: Stage 446 contains a task of very large size (23798 KiB). The maximum recommended task size is 1000 KiB.\n",
      "21/12/12 12:18:47 WARN TaskSetManager: Stage 447 contains a task of very large size (23798 KiB). The maximum recommended task size is 1000 KiB.\n",
      "21/12/12 12:18:47 WARN TaskSetManager: Stage 448 contains a task of very large size (23798 KiB). The maximum recommended task size is 1000 KiB.\n",
      "21/12/12 12:18:48 WARN TaskSetManager: Stage 449 contains a task of very large size (23798 KiB). The maximum recommended task size is 1000 KiB.\n",
      "21/12/12 12:18:48 WARN TaskSetManager: Stage 450 contains a task of very large size (23798 KiB). The maximum recommended task size is 1000 KiB.\n",
      "21/12/12 12:18:48 WARN TaskSetManager: Stage 451 contains a task of very large size (23798 KiB). The maximum recommended task size is 1000 KiB.\n",
      "21/12/12 12:18:49 WARN TaskSetManager: Stage 452 contains a task of very large size (23798 KiB). The maximum recommended task size is 1000 KiB.\n",
      "21/12/12 12:18:49 WARN TaskSetManager: Stage 453 contains a task of very large size (23798 KiB). The maximum recommended task size is 1000 KiB.\n",
      "21/12/12 12:18:49 WARN TaskSetManager: Stage 454 contains a task of very large size (23798 KiB). The maximum recommended task size is 1000 KiB.\n",
      "21/12/12 12:18:50 WARN TaskSetManager: Stage 455 contains a task of very large size (23798 KiB). The maximum recommended task size is 1000 KiB.\n",
      "21/12/12 12:18:50 WARN TaskSetManager: Stage 456 contains a task of very large size (23798 KiB). The maximum recommended task size is 1000 KiB.\n",
      "21/12/12 12:18:50 WARN TaskSetManager: Stage 457 contains a task of very large size (23798 KiB). The maximum recommended task size is 1000 KiB.\n",
      "21/12/12 12:18:51 WARN TaskSetManager: Stage 458 contains a task of very large size (23798 KiB). The maximum recommended task size is 1000 KiB.\n",
      "21/12/12 12:18:51 WARN TaskSetManager: Stage 459 contains a task of very large size (23798 KiB). The maximum recommended task size is 1000 KiB.\n",
      "21/12/12 12:18:51 WARN TaskSetManager: Stage 460 contains a task of very large size (23798 KiB). The maximum recommended task size is 1000 KiB.\n",
      "21/12/12 12:18:52 WARN TaskSetManager: Stage 461 contains a task of very large size (23798 KiB). The maximum recommended task size is 1000 KiB.\n",
      "21/12/12 12:18:52 WARN TaskSetManager: Stage 462 contains a task of very large size (23798 KiB). The maximum recommended task size is 1000 KiB.\n",
      "21/12/12 12:18:53 WARN TaskSetManager: Stage 463 contains a task of very large size (23798 KiB). The maximum recommended task size is 1000 KiB.\n",
      "21/12/12 12:18:53 WARN TaskSetManager: Stage 464 contains a task of very large size (23798 KiB). The maximum recommended task size is 1000 KiB.\n",
      "21/12/12 12:18:53 WARN TaskSetManager: Stage 465 contains a task of very large size (23798 KiB). The maximum recommended task size is 1000 KiB.\n",
      "21/12/12 12:18:53 WARN TaskSetManager: Stage 466 contains a task of very large size (23798 KiB). The maximum recommended task size is 1000 KiB.\n",
      "21/12/12 12:18:54 WARN TaskSetManager: Stage 467 contains a task of very large size (23798 KiB). The maximum recommended task size is 1000 KiB.\n",
      "21/12/12 12:18:54 WARN TaskSetManager: Stage 468 contains a task of very large size (23798 KiB). The maximum recommended task size is 1000 KiB.\n",
      "21/12/12 12:18:54 WARN TaskSetManager: Stage 469 contains a task of very large size (23798 KiB). The maximum recommended task size is 1000 KiB.\n",
      "21/12/12 12:18:55 WARN TaskSetManager: Stage 470 contains a task of very large size (23798 KiB). The maximum recommended task size is 1000 KiB.\n",
      "21/12/12 12:18:55 WARN TaskSetManager: Stage 471 contains a task of very large size (23798 KiB). The maximum recommended task size is 1000 KiB.\n",
      "21/12/12 12:18:55 WARN TaskSetManager: Stage 472 contains a task of very large size (23798 KiB). The maximum recommended task size is 1000 KiB.\n",
      "21/12/12 12:18:56 WARN TaskSetManager: Stage 473 contains a task of very large size (23798 KiB). The maximum recommended task size is 1000 KiB.\n",
      "21/12/12 12:18:56 WARN TaskSetManager: Stage 474 contains a task of very large size (23798 KiB). The maximum recommended task size is 1000 KiB.\n",
      "21/12/12 12:18:56 WARN TaskSetManager: Stage 475 contains a task of very large size (23798 KiB). The maximum recommended task size is 1000 KiB.\n",
      "21/12/12 12:18:56 WARN TaskSetManager: Stage 476 contains a task of very large size (23798 KiB). The maximum recommended task size is 1000 KiB.\n",
      "21/12/12 12:18:57 WARN TaskSetManager: Stage 477 contains a task of very large size (23798 KiB). The maximum recommended task size is 1000 KiB.\n",
      "21/12/12 12:18:57 WARN TaskSetManager: Stage 478 contains a task of very large size (23798 KiB). The maximum recommended task size is 1000 KiB.\n",
      "21/12/12 12:18:57 WARN TaskSetManager: Stage 479 contains a task of very large size (23798 KiB). The maximum recommended task size is 1000 KiB.\n",
      "21/12/12 12:18:58 WARN TaskSetManager: Stage 480 contains a task of very large size (23798 KiB). The maximum recommended task size is 1000 KiB.\n",
      "21/12/12 12:18:58 WARN TaskSetManager: Stage 481 contains a task of very large size (23798 KiB). The maximum recommended task size is 1000 KiB.\n",
      "21/12/12 12:18:58 WARN TaskSetManager: Stage 482 contains a task of very large size (23798 KiB). The maximum recommended task size is 1000 KiB.\n",
      "21/12/12 12:18:59 WARN TaskSetManager: Stage 483 contains a task of very large size (23798 KiB). The maximum recommended task size is 1000 KiB.\n",
      "21/12/12 12:18:59 WARN TaskSetManager: Stage 484 contains a task of very large size (23798 KiB). The maximum recommended task size is 1000 KiB.\n",
      "21/12/12 12:18:59 WARN TaskSetManager: Stage 485 contains a task of very large size (23798 KiB). The maximum recommended task size is 1000 KiB.\n",
      "21/12/12 12:18:59 WARN TaskSetManager: Stage 486 contains a task of very large size (23798 KiB). The maximum recommended task size is 1000 KiB.\n",
      "21/12/12 12:19:00 WARN TaskSetManager: Stage 487 contains a task of very large size (23798 KiB). The maximum recommended task size is 1000 KiB.\n",
      "21/12/12 12:19:00 WARN TaskSetManager: Stage 488 contains a task of very large size (23798 KiB). The maximum recommended task size is 1000 KiB.\n",
      "21/12/12 12:19:01 WARN TaskSetManager: Stage 489 contains a task of very large size (23798 KiB). The maximum recommended task size is 1000 KiB.\n",
      "21/12/12 12:19:01 WARN TaskSetManager: Stage 490 contains a task of very large size (23798 KiB). The maximum recommended task size is 1000 KiB.\n",
      "21/12/12 12:19:01 WARN TaskSetManager: Stage 491 contains a task of very large size (23798 KiB). The maximum recommended task size is 1000 KiB.\n",
      "21/12/12 12:19:01 WARN TaskSetManager: Stage 492 contains a task of very large size (23798 KiB). The maximum recommended task size is 1000 KiB.\n",
      "21/12/12 12:19:02 WARN TaskSetManager: Stage 493 contains a task of very large size (23798 KiB). The maximum recommended task size is 1000 KiB.\n",
      "21/12/12 12:19:03 WARN TaskSetManager: Stage 494 contains a task of very large size (23798 KiB). The maximum recommended task size is 1000 KiB.\n",
      "21/12/12 12:19:03 WARN TaskSetManager: Stage 495 contains a task of very large size (23798 KiB). The maximum recommended task size is 1000 KiB.\n",
      "21/12/12 12:19:04 WARN TaskSetManager: Stage 496 contains a task of very large size (23798 KiB). The maximum recommended task size is 1000 KiB.\n",
      "21/12/12 12:19:04 WARN TaskSetManager: Stage 497 contains a task of very large size (23798 KiB). The maximum recommended task size is 1000 KiB.\n",
      "21/12/12 12:19:05 WARN TaskSetManager: Stage 498 contains a task of very large size (23798 KiB). The maximum recommended task size is 1000 KiB.\n",
      "21/12/12 12:19:05 WARN TaskSetManager: Stage 499 contains a task of very large size (23798 KiB). The maximum recommended task size is 1000 KiB.\n",
      "21/12/12 12:19:05 WARN TaskSetManager: Stage 500 contains a task of very large size (23798 KiB). The maximum recommended task size is 1000 KiB.\n",
      "21/12/12 12:19:06 WARN TaskSetManager: Stage 501 contains a task of very large size (23798 KiB). The maximum recommended task size is 1000 KiB.\n"
     ]
    },
    {
     "name": "stderr",
     "output_type": "stream",
     "text": [
      "21/12/12 12:19:06 WARN TaskSetManager: Stage 502 contains a task of very large size (23798 KiB). The maximum recommended task size is 1000 KiB.\n",
      "21/12/12 12:19:07 WARN TaskSetManager: Stage 503 contains a task of very large size (23798 KiB). The maximum recommended task size is 1000 KiB.\n",
      "21/12/12 12:19:07 WARN TaskSetManager: Stage 504 contains a task of very large size (23798 KiB). The maximum recommended task size is 1000 KiB.\n",
      "21/12/12 12:19:08 WARN TaskSetManager: Stage 505 contains a task of very large size (23798 KiB). The maximum recommended task size is 1000 KiB.\n",
      "21/12/12 12:19:08 WARN TaskSetManager: Stage 506 contains a task of very large size (23798 KiB). The maximum recommended task size is 1000 KiB.\n",
      "21/12/12 12:19:09 WARN TaskSetManager: Stage 507 contains a task of very large size (23798 KiB). The maximum recommended task size is 1000 KiB.\n",
      "21/12/12 12:19:09 WARN TaskSetManager: Stage 508 contains a task of very large size (23798 KiB). The maximum recommended task size is 1000 KiB.\n",
      "21/12/12 12:19:09 WARN TaskSetManager: Stage 509 contains a task of very large size (23798 KiB). The maximum recommended task size is 1000 KiB.\n",
      "21/12/12 12:19:10 WARN TaskSetManager: Stage 510 contains a task of very large size (23798 KiB). The maximum recommended task size is 1000 KiB.\n",
      "21/12/12 12:19:11 WARN TaskSetManager: Stage 511 contains a task of very large size (23798 KiB). The maximum recommended task size is 1000 KiB.\n",
      "21/12/12 12:19:11 WARN TaskSetManager: Stage 512 contains a task of very large size (23798 KiB). The maximum recommended task size is 1000 KiB.\n",
      "21/12/12 12:19:12 WARN TaskSetManager: Stage 513 contains a task of very large size (23798 KiB). The maximum recommended task size is 1000 KiB.\n",
      "21/12/12 12:19:12 WARN TaskSetManager: Stage 514 contains a task of very large size (23798 KiB). The maximum recommended task size is 1000 KiB.\n",
      "21/12/12 12:19:12 WARN TaskSetManager: Stage 515 contains a task of very large size (23798 KiB). The maximum recommended task size is 1000 KiB.\n",
      "21/12/12 12:19:13 WARN TaskSetManager: Stage 516 contains a task of very large size (23798 KiB). The maximum recommended task size is 1000 KiB.\n"
     ]
    }
   ],
   "source": [
    "pipeline = Pipeline(stages=sIndexer+[assembler, lr])\n",
    "model = pipeline.fit(train)"
   ]
  },
  {
   "cell_type": "code",
   "execution_count": 102,
   "id": "9ec1f436",
   "metadata": {},
   "outputs": [
    {
     "name": "stdout",
     "output_type": "stream",
     "text": [
      "Prediction\n"
     ]
    },
    {
     "name": "stderr",
     "output_type": "stream",
     "text": [
      "21/12/12 12:20:04 WARN TaskSetManager: Stage 517 contains a task of very large size (23798 KiB). The maximum recommended task size is 1000 KiB.\n",
      "                                                                                \r"
     ]
    },
    {
     "name": "stdout",
     "output_type": "stream",
     "text": [
      "+--------+----------+\n",
      "|Severity|prediction|\n",
      "+--------+----------+\n",
      "|       2|       2.0|\n",
      "|       2|       2.0|\n",
      "|       2|       4.0|\n",
      "|       2|       2.0|\n",
      "|       2|       2.0|\n",
      "|       2|       3.0|\n",
      "|       2|       2.0|\n",
      "|       2|       2.0|\n",
      "|       2|       2.0|\n",
      "|       2|       2.0|\n",
      "|       2|       2.0|\n",
      "|       2|       2.0|\n",
      "|       2|       3.0|\n",
      "|       2|       2.0|\n",
      "|       2|       2.0|\n",
      "|       2|       2.0|\n",
      "|       2|       2.0|\n",
      "|       2|       2.0|\n",
      "|       2|       2.0|\n",
      "|       2|       2.0|\n",
      "+--------+----------+\n",
      "only showing top 20 rows\n",
      "\n"
     ]
    },
    {
     "name": "stderr",
     "output_type": "stream",
     "text": [
      "21/12/12 12:20:07 WARN TaskSetManager: Stage 518 contains a task of very large size (23798 KiB). The maximum recommended task size is 1000 KiB.\n",
      "[Stage 518:==========================================>              (3 + 1) / 4]\r"
     ]
    },
    {
     "name": "stdout",
     "output_type": "stream",
     "text": [
      "\n",
      "#####################################\n",
      "Accuracy is 0.7983751806112156\n",
      "#####################################\n",
      "\n"
     ]
    },
    {
     "name": "stderr",
     "output_type": "stream",
     "text": [
      "\r",
      "                                                                                \r"
     ]
    }
   ],
   "source": [
    "preds = model.transform(train)\n",
    "print(\"Prediction\")\n",
    "preds.select(\"Severity\",\"prediction\").show(20)\n",
    "\n",
    "# evaluate the accuracy of the model using the test set\n",
    "evaluator = MulticlassClassificationEvaluator(metricName='accuracy', labelCol=\"Severity\")\n",
    "accuracy = evaluator.evaluate(preds)\n",
    "\n",
    "print()\n",
    "print('#####################################')\n",
    "print(f\"Accuracy is {accuracy}\")\n",
    "print('#####################################')\n",
    "print()"
   ]
  },
  {
   "cell_type": "code",
   "execution_count": 107,
   "id": "79d9623d",
   "metadata": {},
   "outputs": [
    {
     "name": "stderr",
     "output_type": "stream",
     "text": [
      "21/12/12 12:40:12 WARN TaskSetManager: Stage 526 contains a task of very large size (23798 KiB). The maximum recommended task size is 1000 KiB.\n",
      "21/12/12 12:40:17 WARN TaskSetManager: Stage 528 contains a task of very large size (23798 KiB). The maximum recommended task size is 1000 KiB.\n"
     ]
    },
    {
     "name": "stdout",
     "output_type": "stream",
     "text": [
      "\n",
      "#####################################\n",
      "Precision is 0.7384906216061682\n",
      "#####################################\n",
      "\n"
     ]
    },
    {
     "name": "stderr",
     "output_type": "stream",
     "text": [
      "21/12/12 12:40:24 WARN TaskSetManager: Stage 530 contains a task of very large size (23798 KiB). The maximum recommended task size is 1000 KiB.\n"
     ]
    },
    {
     "name": "stdout",
     "output_type": "stream",
     "text": [
      "\n",
      "#####################################\n",
      "Recall is 0.7983751806112157\n",
      "#####################################\n",
      "\n"
     ]
    },
    {
     "name": "stderr",
     "output_type": "stream",
     "text": [
      "\r",
      "[Stage 530:>                                                        (0 + 4) / 4]\r"
     ]
    },
    {
     "name": "stdout",
     "output_type": "stream",
     "text": [
      "\n",
      "#####################################\n",
      "f1 is 0.7411126478208241\n",
      "#####################################\n",
      "\n"
     ]
    },
    {
     "name": "stderr",
     "output_type": "stream",
     "text": [
      "\r",
      "                                                                                \r"
     ]
    }
   ],
   "source": [
    "precision_eval = MulticlassClassificationEvaluator(labelCol='Severity', \n",
    "                                              predictionCol='prediction',\n",
    "                                              metricName='weightedPrecision')\n",
    "precision_ = precision.evaluate(preds)\n",
    "print()\n",
    "print('#####################################')\n",
    "print(f\"Precision is {precision_}\")\n",
    "print('#####################################')\n",
    "print()\n",
    "\n",
    "\n",
    "\n",
    "recall_eval = MulticlassClassificationEvaluator(labelCol='Severity', \n",
    "                                           predictionCol='prediction',\n",
    "                                           metricName='weightedRecall')\n",
    "\n",
    "recall_ = recall.evaluate(preds)\n",
    "print()\n",
    "print('#####################################')\n",
    "print(f\"Recall is {recall_}\")\n",
    "print('#####################################')\n",
    "print()\n",
    "f1_eval = MulticlassClassificationEvaluator(labelCol='Severity', \n",
    "                                       predictionCol='prediction',\n",
    "                                       metricName='f1')\n",
    "f1_ = f1_eval.evaluate(preds)\n",
    "print()\n",
    "print('#####################################')\n",
    "print(f\"f1 is {f1_}\")\n",
    "print('#####################################')\n",
    "print()"
   ]
  },
  {
   "cell_type": "markdown",
   "id": "5b2c5dbe",
   "metadata": {},
   "source": [
    "## Decision Tree"
   ]
  },
  {
   "cell_type": "code",
   "execution_count": 109,
   "id": "28bab6fe",
   "metadata": {},
   "outputs": [],
   "source": [
    "from pyspark.ml.classification import (DecisionTreeClassifier, \n",
    "                                      RandomForestClassifier, \n",
    "                                      GBTClassifier)"
   ]
  },
  {
   "cell_type": "code",
   "execution_count": 110,
   "id": "2134243a",
   "metadata": {},
   "outputs": [],
   "source": [
    "dt = DecisionTreeClassifier(featuresCol=\"features\", labelCol=label)"
   ]
  },
  {
   "cell_type": "code",
   "execution_count": 111,
   "id": "39164299",
   "metadata": {},
   "outputs": [
    {
     "name": "stderr",
     "output_type": "stream",
     "text": [
      "21/12/12 12:46:20 WARN TaskSetManager: Stage 532 contains a task of very large size (23798 KiB). The maximum recommended task size is 1000 KiB.\n",
      "21/12/12 12:46:27 WARN TaskSetManager: Stage 534 contains a task of very large size (23798 KiB). The maximum recommended task size is 1000 KiB.\n",
      "21/12/12 12:46:35 WARN TaskSetManager: Stage 536 contains a task of very large size (23798 KiB). The maximum recommended task size is 1000 KiB.\n",
      "21/12/12 12:46:46 WARN TaskSetManager: Stage 538 contains a task of very large size (23798 KiB). The maximum recommended task size is 1000 KiB.\n",
      "21/12/12 12:46:54 WARN TaskSetManager: Stage 540 contains a task of very large size (23798 KiB). The maximum recommended task size is 1000 KiB.\n",
      "21/12/12 12:47:00 WARN TaskSetManager: Stage 542 contains a task of very large size (23798 KiB). The maximum recommended task size is 1000 KiB.\n",
      "21/12/12 12:47:09 WARN TaskSetManager: Stage 544 contains a task of very large size (23798 KiB). The maximum recommended task size is 1000 KiB.\n",
      "21/12/12 12:47:16 WARN TaskSetManager: Stage 546 contains a task of very large size (23798 KiB). The maximum recommended task size is 1000 KiB.\n",
      "21/12/12 12:47:23 WARN TaskSetManager: Stage 548 contains a task of very large size (23798 KiB). The maximum recommended task size is 1000 KiB.\n",
      "21/12/12 12:47:31 WARN TaskSetManager: Stage 550 contains a task of very large size (23798 KiB). The maximum recommended task size is 1000 KiB.\n",
      "21/12/12 12:47:37 WARN TaskSetManager: Stage 552 contains a task of very large size (23798 KiB). The maximum recommended task size is 1000 KiB.\n",
      "21/12/12 12:47:43 WARN TaskSetManager: Stage 554 contains a task of very large size (23798 KiB). The maximum recommended task size is 1000 KiB.\n",
      "21/12/12 12:47:46 WARN TaskSetManager: Stage 555 contains a task of very large size (23798 KiB). The maximum recommended task size is 1000 KiB.\n",
      "21/12/12 12:47:53 ERROR Instrumentation: java.lang.IllegalArgumentException: requirement failed: DecisionTree requires maxBins (= 32) to be at least as large as the number of values in each categorical feature, but categorical feature 5 has 80 values. Consider removing this and other categorical features with a large number of values, or add more training examples.\n",
      "\tat scala.Predef$.require(Predef.scala:281)\n",
      "\tat org.apache.spark.ml.tree.impl.DecisionTreeMetadata$.buildMetadata(DecisionTreeMetadata.scala:151)\n",
      "\tat org.apache.spark.ml.tree.impl.RandomForest$.run(RandomForest.scala:274)\n",
      "\tat org.apache.spark.ml.classification.DecisionTreeClassifier.$anonfun$train$1(DecisionTreeClassifier.scala:135)\n",
      "\tat org.apache.spark.ml.util.Instrumentation$.$anonfun$instrumented$1(Instrumentation.scala:191)\n",
      "\tat scala.util.Try$.apply(Try.scala:213)\n",
      "\tat org.apache.spark.ml.util.Instrumentation$.instrumented(Instrumentation.scala:191)\n",
      "\tat org.apache.spark.ml.classification.DecisionTreeClassifier.train(DecisionTreeClassifier.scala:114)\n",
      "\tat org.apache.spark.ml.classification.DecisionTreeClassifier.train(DecisionTreeClassifier.scala:46)\n",
      "\tat org.apache.spark.ml.Predictor.fit(Predictor.scala:151)\n",
      "\tat org.apache.spark.ml.Predictor.fit(Predictor.scala:115)\n",
      "\tat sun.reflect.NativeMethodAccessorImpl.invoke0(Native Method)\n",
      "\tat sun.reflect.NativeMethodAccessorImpl.invoke(NativeMethodAccessorImpl.java:62)\n",
      "\tat sun.reflect.DelegatingMethodAccessorImpl.invoke(DelegatingMethodAccessorImpl.java:43)\n",
      "\tat java.lang.reflect.Method.invoke(Method.java:498)\n",
      "\tat py4j.reflection.MethodInvoker.invoke(MethodInvoker.java:244)\n",
      "\tat py4j.reflection.ReflectionEngine.invoke(ReflectionEngine.java:357)\n",
      "\tat py4j.Gateway.invoke(Gateway.java:282)\n",
      "\tat py4j.commands.AbstractCommand.invokeMethod(AbstractCommand.java:132)\n",
      "\tat py4j.commands.CallCommand.execute(CallCommand.java:79)\n",
      "\tat py4j.GatewayConnection.run(GatewayConnection.java:238)\n",
      "\tat java.lang.Thread.run(Thread.java:748)\n",
      "\n"
     ]
    },
    {
     "ename": "IllegalArgumentException",
     "evalue": "requirement failed: DecisionTree requires maxBins (= 32) to be at least as large as the number of values in each categorical feature, but categorical feature 5 has 80 values. Consider removing this and other categorical features with a large number of values, or add more training examples.",
     "output_type": "error",
     "traceback": [
      "\u001b[0;31m---------------------------------------------------------------------------\u001b[0m",
      "\u001b[0;31mIllegalArgumentException\u001b[0m                  Traceback (most recent call last)",
      "\u001b[0;32m/var/folders/3b/d88c396s1jx1hf72ltg_cc4r0000gn/T/ipykernel_25083/1976302298.py\u001b[0m in \u001b[0;36m<module>\u001b[0;34m\u001b[0m\n\u001b[1;32m      1\u001b[0m \u001b[0mpipeline\u001b[0m \u001b[0;34m=\u001b[0m \u001b[0mPipeline\u001b[0m\u001b[0;34m(\u001b[0m\u001b[0mstages\u001b[0m\u001b[0;34m=\u001b[0m\u001b[0msIndexer\u001b[0m\u001b[0;34m+\u001b[0m\u001b[0;34m[\u001b[0m\u001b[0massembler\u001b[0m\u001b[0;34m,\u001b[0m \u001b[0mdt\u001b[0m\u001b[0;34m]\u001b[0m\u001b[0;34m)\u001b[0m\u001b[0;34m\u001b[0m\u001b[0;34m\u001b[0m\u001b[0m\n\u001b[0;32m----> 2\u001b[0;31m \u001b[0mmodel\u001b[0m \u001b[0;34m=\u001b[0m \u001b[0mpipeline\u001b[0m\u001b[0;34m.\u001b[0m\u001b[0mfit\u001b[0m\u001b[0;34m(\u001b[0m\u001b[0mtrain\u001b[0m\u001b[0;34m)\u001b[0m\u001b[0;34m\u001b[0m\u001b[0;34m\u001b[0m\u001b[0m\n\u001b[0m",
      "\u001b[0;32m~/opt/anaconda3/envs/metis/lib/python3.8/site-packages/pyspark/ml/base.py\u001b[0m in \u001b[0;36mfit\u001b[0;34m(self, dataset, params)\u001b[0m\n\u001b[1;32m    159\u001b[0m                 \u001b[0;32mreturn\u001b[0m \u001b[0mself\u001b[0m\u001b[0;34m.\u001b[0m\u001b[0mcopy\u001b[0m\u001b[0;34m(\u001b[0m\u001b[0mparams\u001b[0m\u001b[0;34m)\u001b[0m\u001b[0;34m.\u001b[0m\u001b[0m_fit\u001b[0m\u001b[0;34m(\u001b[0m\u001b[0mdataset\u001b[0m\u001b[0;34m)\u001b[0m\u001b[0;34m\u001b[0m\u001b[0;34m\u001b[0m\u001b[0m\n\u001b[1;32m    160\u001b[0m             \u001b[0;32melse\u001b[0m\u001b[0;34m:\u001b[0m\u001b[0;34m\u001b[0m\u001b[0;34m\u001b[0m\u001b[0m\n\u001b[0;32m--> 161\u001b[0;31m                 \u001b[0;32mreturn\u001b[0m \u001b[0mself\u001b[0m\u001b[0;34m.\u001b[0m\u001b[0m_fit\u001b[0m\u001b[0;34m(\u001b[0m\u001b[0mdataset\u001b[0m\u001b[0;34m)\u001b[0m\u001b[0;34m\u001b[0m\u001b[0;34m\u001b[0m\u001b[0m\n\u001b[0m\u001b[1;32m    162\u001b[0m         \u001b[0;32melse\u001b[0m\u001b[0;34m:\u001b[0m\u001b[0;34m\u001b[0m\u001b[0;34m\u001b[0m\u001b[0m\n\u001b[1;32m    163\u001b[0m             raise ValueError(\"Params must be either a param map or a list/tuple of param maps, \"\n",
      "\u001b[0;32m~/opt/anaconda3/envs/metis/lib/python3.8/site-packages/pyspark/ml/pipeline.py\u001b[0m in \u001b[0;36m_fit\u001b[0;34m(self, dataset)\u001b[0m\n\u001b[1;32m    112\u001b[0m                     \u001b[0mdataset\u001b[0m \u001b[0;34m=\u001b[0m \u001b[0mstage\u001b[0m\u001b[0;34m.\u001b[0m\u001b[0mtransform\u001b[0m\u001b[0;34m(\u001b[0m\u001b[0mdataset\u001b[0m\u001b[0;34m)\u001b[0m\u001b[0;34m\u001b[0m\u001b[0;34m\u001b[0m\u001b[0m\n\u001b[1;32m    113\u001b[0m                 \u001b[0;32melse\u001b[0m\u001b[0;34m:\u001b[0m  \u001b[0;31m# must be an Estimator\u001b[0m\u001b[0;34m\u001b[0m\u001b[0;34m\u001b[0m\u001b[0m\n\u001b[0;32m--> 114\u001b[0;31m                     \u001b[0mmodel\u001b[0m \u001b[0;34m=\u001b[0m \u001b[0mstage\u001b[0m\u001b[0;34m.\u001b[0m\u001b[0mfit\u001b[0m\u001b[0;34m(\u001b[0m\u001b[0mdataset\u001b[0m\u001b[0;34m)\u001b[0m\u001b[0;34m\u001b[0m\u001b[0;34m\u001b[0m\u001b[0m\n\u001b[0m\u001b[1;32m    115\u001b[0m                     \u001b[0mtransformers\u001b[0m\u001b[0;34m.\u001b[0m\u001b[0mappend\u001b[0m\u001b[0;34m(\u001b[0m\u001b[0mmodel\u001b[0m\u001b[0;34m)\u001b[0m\u001b[0;34m\u001b[0m\u001b[0;34m\u001b[0m\u001b[0m\n\u001b[1;32m    116\u001b[0m                     \u001b[0;32mif\u001b[0m \u001b[0mi\u001b[0m \u001b[0;34m<\u001b[0m \u001b[0mindexOfLastEstimator\u001b[0m\u001b[0;34m:\u001b[0m\u001b[0;34m\u001b[0m\u001b[0;34m\u001b[0m\u001b[0m\n",
      "\u001b[0;32m~/opt/anaconda3/envs/metis/lib/python3.8/site-packages/pyspark/ml/base.py\u001b[0m in \u001b[0;36mfit\u001b[0;34m(self, dataset, params)\u001b[0m\n\u001b[1;32m    159\u001b[0m                 \u001b[0;32mreturn\u001b[0m \u001b[0mself\u001b[0m\u001b[0;34m.\u001b[0m\u001b[0mcopy\u001b[0m\u001b[0;34m(\u001b[0m\u001b[0mparams\u001b[0m\u001b[0;34m)\u001b[0m\u001b[0;34m.\u001b[0m\u001b[0m_fit\u001b[0m\u001b[0;34m(\u001b[0m\u001b[0mdataset\u001b[0m\u001b[0;34m)\u001b[0m\u001b[0;34m\u001b[0m\u001b[0;34m\u001b[0m\u001b[0m\n\u001b[1;32m    160\u001b[0m             \u001b[0;32melse\u001b[0m\u001b[0;34m:\u001b[0m\u001b[0;34m\u001b[0m\u001b[0;34m\u001b[0m\u001b[0m\n\u001b[0;32m--> 161\u001b[0;31m                 \u001b[0;32mreturn\u001b[0m \u001b[0mself\u001b[0m\u001b[0;34m.\u001b[0m\u001b[0m_fit\u001b[0m\u001b[0;34m(\u001b[0m\u001b[0mdataset\u001b[0m\u001b[0;34m)\u001b[0m\u001b[0;34m\u001b[0m\u001b[0;34m\u001b[0m\u001b[0m\n\u001b[0m\u001b[1;32m    162\u001b[0m         \u001b[0;32melse\u001b[0m\u001b[0;34m:\u001b[0m\u001b[0;34m\u001b[0m\u001b[0;34m\u001b[0m\u001b[0m\n\u001b[1;32m    163\u001b[0m             raise ValueError(\"Params must be either a param map or a list/tuple of param maps, \"\n",
      "\u001b[0;32m~/opt/anaconda3/envs/metis/lib/python3.8/site-packages/pyspark/ml/wrapper.py\u001b[0m in \u001b[0;36m_fit\u001b[0;34m(self, dataset)\u001b[0m\n\u001b[1;32m    333\u001b[0m \u001b[0;34m\u001b[0m\u001b[0m\n\u001b[1;32m    334\u001b[0m     \u001b[0;32mdef\u001b[0m \u001b[0m_fit\u001b[0m\u001b[0;34m(\u001b[0m\u001b[0mself\u001b[0m\u001b[0;34m,\u001b[0m \u001b[0mdataset\u001b[0m\u001b[0;34m)\u001b[0m\u001b[0;34m:\u001b[0m\u001b[0;34m\u001b[0m\u001b[0;34m\u001b[0m\u001b[0m\n\u001b[0;32m--> 335\u001b[0;31m         \u001b[0mjava_model\u001b[0m \u001b[0;34m=\u001b[0m \u001b[0mself\u001b[0m\u001b[0;34m.\u001b[0m\u001b[0m_fit_java\u001b[0m\u001b[0;34m(\u001b[0m\u001b[0mdataset\u001b[0m\u001b[0;34m)\u001b[0m\u001b[0;34m\u001b[0m\u001b[0;34m\u001b[0m\u001b[0m\n\u001b[0m\u001b[1;32m    336\u001b[0m         \u001b[0mmodel\u001b[0m \u001b[0;34m=\u001b[0m \u001b[0mself\u001b[0m\u001b[0;34m.\u001b[0m\u001b[0m_create_model\u001b[0m\u001b[0;34m(\u001b[0m\u001b[0mjava_model\u001b[0m\u001b[0;34m)\u001b[0m\u001b[0;34m\u001b[0m\u001b[0;34m\u001b[0m\u001b[0m\n\u001b[1;32m    337\u001b[0m         \u001b[0;32mreturn\u001b[0m \u001b[0mself\u001b[0m\u001b[0;34m.\u001b[0m\u001b[0m_copyValues\u001b[0m\u001b[0;34m(\u001b[0m\u001b[0mmodel\u001b[0m\u001b[0;34m)\u001b[0m\u001b[0;34m\u001b[0m\u001b[0;34m\u001b[0m\u001b[0m\n",
      "\u001b[0;32m~/opt/anaconda3/envs/metis/lib/python3.8/site-packages/pyspark/ml/wrapper.py\u001b[0m in \u001b[0;36m_fit_java\u001b[0;34m(self, dataset)\u001b[0m\n\u001b[1;32m    330\u001b[0m         \"\"\"\n\u001b[1;32m    331\u001b[0m         \u001b[0mself\u001b[0m\u001b[0;34m.\u001b[0m\u001b[0m_transfer_params_to_java\u001b[0m\u001b[0;34m(\u001b[0m\u001b[0;34m)\u001b[0m\u001b[0;34m\u001b[0m\u001b[0;34m\u001b[0m\u001b[0m\n\u001b[0;32m--> 332\u001b[0;31m         \u001b[0;32mreturn\u001b[0m \u001b[0mself\u001b[0m\u001b[0;34m.\u001b[0m\u001b[0m_java_obj\u001b[0m\u001b[0;34m.\u001b[0m\u001b[0mfit\u001b[0m\u001b[0;34m(\u001b[0m\u001b[0mdataset\u001b[0m\u001b[0;34m.\u001b[0m\u001b[0m_jdf\u001b[0m\u001b[0;34m)\u001b[0m\u001b[0;34m\u001b[0m\u001b[0;34m\u001b[0m\u001b[0m\n\u001b[0m\u001b[1;32m    333\u001b[0m \u001b[0;34m\u001b[0m\u001b[0m\n\u001b[1;32m    334\u001b[0m     \u001b[0;32mdef\u001b[0m \u001b[0m_fit\u001b[0m\u001b[0;34m(\u001b[0m\u001b[0mself\u001b[0m\u001b[0;34m,\u001b[0m \u001b[0mdataset\u001b[0m\u001b[0;34m)\u001b[0m\u001b[0;34m:\u001b[0m\u001b[0;34m\u001b[0m\u001b[0;34m\u001b[0m\u001b[0m\n",
      "\u001b[0;32m~/opt/anaconda3/envs/metis/lib/python3.8/site-packages/py4j/java_gateway.py\u001b[0m in \u001b[0;36m__call__\u001b[0;34m(self, *args)\u001b[0m\n\u001b[1;32m   1302\u001b[0m \u001b[0;34m\u001b[0m\u001b[0m\n\u001b[1;32m   1303\u001b[0m         \u001b[0manswer\u001b[0m \u001b[0;34m=\u001b[0m \u001b[0mself\u001b[0m\u001b[0;34m.\u001b[0m\u001b[0mgateway_client\u001b[0m\u001b[0;34m.\u001b[0m\u001b[0msend_command\u001b[0m\u001b[0;34m(\u001b[0m\u001b[0mcommand\u001b[0m\u001b[0;34m)\u001b[0m\u001b[0;34m\u001b[0m\u001b[0;34m\u001b[0m\u001b[0m\n\u001b[0;32m-> 1304\u001b[0;31m         return_value = get_return_value(\n\u001b[0m\u001b[1;32m   1305\u001b[0m             answer, self.gateway_client, self.target_id, self.name)\n\u001b[1;32m   1306\u001b[0m \u001b[0;34m\u001b[0m\u001b[0m\n",
      "\u001b[0;32m~/opt/anaconda3/envs/metis/lib/python3.8/site-packages/pyspark/sql/utils.py\u001b[0m in \u001b[0;36mdeco\u001b[0;34m(*a, **kw)\u001b[0m\n\u001b[1;32m    115\u001b[0m                 \u001b[0;31m# Hide where the exception came from that shows a non-Pythonic\u001b[0m\u001b[0;34m\u001b[0m\u001b[0;34m\u001b[0m\u001b[0;34m\u001b[0m\u001b[0m\n\u001b[1;32m    116\u001b[0m                 \u001b[0;31m# JVM exception message.\u001b[0m\u001b[0;34m\u001b[0m\u001b[0;34m\u001b[0m\u001b[0;34m\u001b[0m\u001b[0m\n\u001b[0;32m--> 117\u001b[0;31m                 \u001b[0;32mraise\u001b[0m \u001b[0mconverted\u001b[0m \u001b[0;32mfrom\u001b[0m \u001b[0;32mNone\u001b[0m\u001b[0;34m\u001b[0m\u001b[0;34m\u001b[0m\u001b[0m\n\u001b[0m\u001b[1;32m    118\u001b[0m             \u001b[0;32melse\u001b[0m\u001b[0;34m:\u001b[0m\u001b[0;34m\u001b[0m\u001b[0;34m\u001b[0m\u001b[0m\n\u001b[1;32m    119\u001b[0m                 \u001b[0;32mraise\u001b[0m\u001b[0;34m\u001b[0m\u001b[0;34m\u001b[0m\u001b[0m\n",
      "\u001b[0;31mIllegalArgumentException\u001b[0m: requirement failed: DecisionTree requires maxBins (= 32) to be at least as large as the number of values in each categorical feature, but categorical feature 5 has 80 values. Consider removing this and other categorical features with a large number of values, or add more training examples."
     ]
    }
   ],
   "source": [
    "pipeline = Pipeline(stages=sIndexer+[assembler, dt])\n",
    "model = pipeline.fit(train)"
   ]
  },
  {
   "cell_type": "code",
   "execution_count": 112,
   "id": "1b3bf03e",
   "metadata": {},
   "outputs": [
    {
     "name": "stdout",
     "output_type": "stream",
     "text": [
      "Prediction\n"
     ]
    },
    {
     "name": "stderr",
     "output_type": "stream",
     "text": [
      "21/12/12 12:48:32 WARN TaskSetManager: Stage 556 contains a task of very large size (23798 KiB). The maximum recommended task size is 1000 KiB.\n",
      "[Stage 556:>                                                        (0 + 1) / 1]\r"
     ]
    },
    {
     "name": "stdout",
     "output_type": "stream",
     "text": [
      "+--------+----------+\n",
      "|Severity|prediction|\n",
      "+--------+----------+\n",
      "|       2|       2.0|\n",
      "|       2|       2.0|\n",
      "|       2|       4.0|\n",
      "|       2|       2.0|\n",
      "|       2|       2.0|\n",
      "|       2|       3.0|\n",
      "|       2|       2.0|\n",
      "|       2|       2.0|\n",
      "|       2|       2.0|\n",
      "|       2|       2.0|\n",
      "|       2|       2.0|\n",
      "|       2|       2.0|\n",
      "|       2|       3.0|\n",
      "|       2|       2.0|\n",
      "|       2|       2.0|\n",
      "|       2|       2.0|\n",
      "|       2|       2.0|\n",
      "|       2|       2.0|\n",
      "|       2|       2.0|\n",
      "|       2|       2.0|\n",
      "+--------+----------+\n",
      "only showing top 20 rows\n",
      "\n"
     ]
    },
    {
     "name": "stderr",
     "output_type": "stream",
     "text": [
      "21/12/12 12:48:34 WARN TaskSetManager: Stage 557 contains a task of very large size (23798 KiB). The maximum recommended task size is 1000 KiB.\n",
      "21/12/12 12:48:40 WARN TaskSetManager: Stage 559 contains a task of very large size (23798 KiB). The maximum recommended task size is 1000 KiB.\n"
     ]
    },
    {
     "name": "stdout",
     "output_type": "stream",
     "text": [
      "\n",
      "#####################################\n",
      "Accuracy is 0.7983751806112156\n",
      "#####################################\n",
      "\n"
     ]
    },
    {
     "name": "stderr",
     "output_type": "stream",
     "text": [
      "21/12/12 12:48:47 WARN TaskSetManager: Stage 561 contains a task of very large size (23798 KiB). The maximum recommended task size is 1000 KiB.\n"
     ]
    },
    {
     "name": "stdout",
     "output_type": "stream",
     "text": [
      "\n",
      "#####################################\n",
      "Precision is 0.7384906216061682\n",
      "#####################################\n",
      "\n"
     ]
    },
    {
     "name": "stderr",
     "output_type": "stream",
     "text": [
      "21/12/12 12:48:56 WARN TaskSetManager: Stage 563 contains a task of very large size (23798 KiB). The maximum recommended task size is 1000 KiB.\n"
     ]
    },
    {
     "name": "stdout",
     "output_type": "stream",
     "text": [
      "\n",
      "#####################################\n",
      "Recall is 0.7983751806112157\n",
      "#####################################\n",
      "\n"
     ]
    },
    {
     "name": "stderr",
     "output_type": "stream",
     "text": [
      "\r",
      "[Stage 563:>                                                        (0 + 4) / 4]\r"
     ]
    },
    {
     "name": "stdout",
     "output_type": "stream",
     "text": [
      "\n",
      "#####################################\n",
      "f1 is 0.7411126478208241\n",
      "#####################################\n",
      "\n"
     ]
    },
    {
     "name": "stderr",
     "output_type": "stream",
     "text": [
      "\r",
      "                                                                                \r"
     ]
    }
   ],
   "source": [
    "preds = model.transform(train)\n",
    "print(\"Prediction\")\n",
    "preds.select(\"Severity\",\"prediction\").show(20)\n",
    "\n",
    "# evaluate the accuracy of the model using the test set\n",
    "accuracy_eval = MulticlassClassificationEvaluator(metricName='accuracy', labelCol=\"Severity\")\n",
    "accuracy = accuracy_eval.evaluate(preds)\n",
    "\n",
    "print()\n",
    "print('#####################################')\n",
    "print(f\"Accuracy is {accuracy}\")\n",
    "print('#####################################')\n",
    "print()\n",
    "precision_eval = MulticlassClassificationEvaluator(labelCol='Severity', \n",
    "                                              predictionCol='prediction',\n",
    "                                              metricName='weightedPrecision')\n",
    "precision_ = precision.evaluate(preds)\n",
    "print()\n",
    "print('#####################################')\n",
    "print(f\"Precision is {precision_}\")\n",
    "print('#####################################')\n",
    "print()\n",
    "\n",
    "\n",
    "\n",
    "recall_eval = MulticlassClassificationEvaluator(labelCol='Severity', \n",
    "                                           predictionCol='prediction',\n",
    "                                           metricName='weightedRecall')\n",
    "\n",
    "recall_ = recall.evaluate(preds)\n",
    "print()\n",
    "print('#####################################')\n",
    "print(f\"Recall is {recall_}\")\n",
    "print('#####################################')\n",
    "print()\n",
    "f1_eval = MulticlassClassificationEvaluator(labelCol='Severity', \n",
    "                                       predictionCol='prediction',\n",
    "                                       metricName='f1')\n",
    "f1_ = f1_eval.evaluate(preds)\n",
    "print()\n",
    "print('#####################################')\n",
    "print(f\"f1 is {f1_}\")\n",
    "print('#####################################')\n",
    "print()"
   ]
  },
  {
   "cell_type": "code",
   "execution_count": null,
   "id": "077fe225",
   "metadata": {},
   "outputs": [],
   "source": []
  },
  {
   "cell_type": "code",
   "execution_count": null,
   "id": "5c90150d",
   "metadata": {},
   "outputs": [],
   "source": []
  },
  {
   "cell_type": "code",
   "execution_count": null,
   "id": "1a7fc750",
   "metadata": {},
   "outputs": [],
   "source": []
  },
  {
   "cell_type": "code",
   "execution_count": null,
   "id": "b09113ea",
   "metadata": {},
   "outputs": [],
   "source": []
  },
  {
   "cell_type": "markdown",
   "id": "88165bb7",
   "metadata": {},
   "source": [
    "## Pandas data frame of our data:"
   ]
  },
  {
   "cell_type": "code",
   "execution_count": null,
   "id": "97cc2ac8",
   "metadata": {},
   "outputs": [],
   "source": []
  },
  {
   "cell_type": "code",
   "execution_count": null,
   "id": "c8d58043",
   "metadata": {},
   "outputs": [],
   "source": []
  },
  {
   "cell_type": "code",
   "execution_count": null,
   "id": "b44cfa13",
   "metadata": {},
   "outputs": [],
   "source": [
    "data_pd_df = data.select('*').toPandas()"
   ]
  },
  {
   "cell_type": "code",
   "execution_count": null,
   "id": "bc4d8827",
   "metadata": {},
   "outputs": [],
   "source": [
    "data_pd_df.head(1)"
   ]
  },
  {
   "cell_type": "code",
   "execution_count": null,
   "id": "1feb0355",
   "metadata": {},
   "outputs": [],
   "source": [
    "data_pd_df.info()"
   ]
  },
  {
   "cell_type": "code",
   "execution_count": null,
   "id": "4fecad8f",
   "metadata": {},
   "outputs": [],
   "source": []
  },
  {
   "cell_type": "markdown",
   "id": "0bc8b99b",
   "metadata": {},
   "source": [
    "### Switching to pandas for some cleaning"
   ]
  },
  {
   "cell_type": "code",
   "execution_count": null,
   "id": "bfed926a",
   "metadata": {},
   "outputs": [],
   "source": [
    "df_copy = data_pd_df.copy()"
   ]
  },
  {
   "cell_type": "code",
   "execution_count": null,
   "id": "6f9887a5",
   "metadata": {},
   "outputs": [],
   "source": [
    "df_copy['Wind_Direction'].replace('Calm', 'CALM',inplace=True)"
   ]
  },
  {
   "cell_type": "code",
   "execution_count": null,
   "id": "5f61e4c8",
   "metadata": {},
   "outputs": [],
   "source": [
    "df_copy['Wind_Direction'].replace('VAR', 'Variable',inplace=True)"
   ]
  },
  {
   "cell_type": "code",
   "execution_count": null,
   "id": "2adc5103",
   "metadata": {},
   "outputs": [],
   "source": [
    "#N:\n",
    "df_copy['Wind_Direction'].replace('North', 'N',inplace=True)\n",
    "df_copy['Wind_Direction'].replace('NNE', 'N',inplace=True)\n",
    "df_copy['Wind_Direction'].replace('NNW', 'N',inplace=True)\n",
    "\n",
    "#S:\n",
    "df_copy['Wind_Direction'].replace('South', 'S',inplace=True)\n",
    "df_copy['Wind_Direction'].replace('SSW', 'S',inplace=True)\n",
    "df_copy['Wind_Direction'].replace('SSE', 'S',inplace=True)\n",
    "\n",
    "#E:\n",
    "df_copy['Wind_Direction'].replace('East', 'E',inplace=True)\n",
    "df_copy['Wind_Direction'].replace('ESE', 'E',inplace=True)\n",
    "df_copy['Wind_Direction'].replace('ENE', 'E',inplace=True)\n",
    "\n",
    "#W:\n",
    "df_copy['Wind_Direction'].replace('West', 'W',inplace=True)\n",
    "df_copy['Wind_Direction'].replace('WSW', 'W',inplace=True)\n",
    "df_copy['Wind_Direction'].replace('WNW', 'W',inplace=True)"
   ]
  },
  {
   "cell_type": "code",
   "execution_count": null,
   "id": "a9239eea",
   "metadata": {},
   "outputs": [],
   "source": [
    "df_copy['Wind_Direction'].replace('None', 'Variable',inplace=True)"
   ]
  },
  {
   "cell_type": "code",
   "execution_count": null,
   "id": "90baa057",
   "metadata": {},
   "outputs": [],
   "source": [
    "df_copy['Wind_Direction'].unique()"
   ]
  },
  {
   "cell_type": "code",
   "execution_count": null,
   "id": "5f0e6f6d",
   "metadata": {},
   "outputs": [],
   "source": [
    "df_copy.info()"
   ]
  },
  {
   "cell_type": "markdown",
   "id": "69020bf0",
   "metadata": {},
   "source": [
    "### New clean DF: "
   ]
  },
  {
   "cell_type": "code",
   "execution_count": null,
   "id": "e26d075d",
   "metadata": {},
   "outputs": [],
   "source": [
    "clean_df = df_copy.drop(['ID','Start_Time','End_Time','Start_Lat',\n",
    "              'Start_Lng','End_Lat','End_Lng','Description',\n",
    "              'Number','Street','City','County','State','Zipcode','Country','Airport_Code',\n",
    "              'Weather_Timestamp'], axis=1, inplace=True)"
   ]
  },
  {
   "cell_type": "code",
   "execution_count": null,
   "id": "484e809c",
   "metadata": {},
   "outputs": [],
   "source": [
    "df_copy.info()"
   ]
  },
  {
   "cell_type": "markdown",
   "id": "8881ecb4",
   "metadata": {},
   "source": [
    "### Repalcing nulls with mean/median values of columns"
   ]
  },
  {
   "cell_type": "code",
   "execution_count": null,
   "id": "95e78012",
   "metadata": {},
   "outputs": [],
   "source": [
    "# Temperature(F)\n",
    "df_copy['Temperature(F)'].fillna(df_copy['Temperature(F)'].median(), inplace=True)\n",
    "# Wind_Chill(F)\n",
    "df_copy['Wind_Chill(F)'].fillna(df_copy['Wind_Chill(F)'].median(), inplace=True)\n",
    "# Humidity(%)\n",
    "df_copy['Humidity(%)'].fillna(df_copy['Humidity(%)'].median(), inplace=True)\n",
    "# Pressure(in)\n",
    "df_copy['Pressure(in)'].fillna(df_copy['Pressure(in)'].median(), inplace=True)\n",
    "# Visibility(mi)\n",
    "df_copy['Visibility(mi)'].fillna(df_copy['Visibility(mi)'].median(), inplace=True)\n",
    "# Wind_Speed(mph)\n",
    "df_copy['Wind_Speed(mph)'].fillna(df_copy['Wind_Speed(mph)'].median(), inplace=True)\n",
    "# Precipitation(in)\n",
    "df_copy['Precipitation(in)'].fillna(df_copy['Precipitation(in)'].median(), inplace=True)"
   ]
  },
  {
   "cell_type": "code",
   "execution_count": null,
   "id": "3ccb4fd3",
   "metadata": {},
   "outputs": [],
   "source": [
    "df_copy.info()"
   ]
  },
  {
   "cell_type": "code",
   "execution_count": null,
   "id": "2873a52d",
   "metadata": {},
   "outputs": [],
   "source": [
    "df_copy['Wind_Direction'].value_counts()"
   ]
  },
  {
   "cell_type": "code",
   "execution_count": null,
   "id": "5f451cb8",
   "metadata": {},
   "outputs": [],
   "source": [
    "df_copy[df_copy['Wind_Direction'].isnull()]"
   ]
  },
  {
   "cell_type": "code",
   "execution_count": null,
   "id": "b04e4944",
   "metadata": {},
   "outputs": [],
   "source": [
    "# Fixing the timezone nulls"
   ]
  },
  {
   "cell_type": "code",
   "execution_count": null,
   "id": "6709da42",
   "metadata": {},
   "outputs": [],
   "source": [
    "df_copy[df_copy['Timezone'].isnull()]"
   ]
  },
  {
   "cell_type": "code",
   "execution_count": null,
   "id": "770061da",
   "metadata": {},
   "outputs": [],
   "source": [
    "df_copy['Timezone'].value_counts()"
   ]
  },
  {
   "cell_type": "code",
   "execution_count": null,
   "id": "32ca15da",
   "metadata": {},
   "outputs": [],
   "source": [
    "df_copy['Timezone'].fillna('US/Pacific', inplace=True)"
   ]
  },
  {
   "cell_type": "code",
   "execution_count": null,
   "id": "0e809d0b",
   "metadata": {},
   "outputs": [],
   "source": [
    "# Fixing the nulls in Weather_Condition\n",
    "df_copy[df_copy['Weather_Condition'].isnull()]"
   ]
  },
  {
   "cell_type": "code",
   "execution_count": null,
   "id": "861290fa",
   "metadata": {},
   "outputs": [],
   "source": [
    "df_copy['Weather_Condition'].value_counts()"
   ]
  },
  {
   "cell_type": "code",
   "execution_count": null,
   "id": "d5454dec",
   "metadata": {},
   "outputs": [],
   "source": [
    "df_copy['Weather_Condition'].fillna('Fair', inplace=True)"
   ]
  },
  {
   "cell_type": "markdown",
   "id": "74e455ba",
   "metadata": {},
   "source": [
    "## Data Cleaning "
   ]
  },
  {
   "cell_type": "code",
   "execution_count": null,
   "id": "06569e09",
   "metadata": {},
   "outputs": [],
   "source": [
    "'''columns = ['ID','Severity','Start_Time','End_Time','Start_Lat','Start_Lng','End_Lat','End_Lng','Distance(mi)',\n",
    "               'Description','Number','Street','Side','City','County','State','Zipcode','Country','Timezone','Airport_Code',\n",
    "               'Weather_Timestamp','Temperature(F)','Wind_Chill(F)','Humidity(%)','Pressure(in)','Visibility(mi)',\n",
    "               'Wind_Direction','Wind_Speed(mph)','Precipitation(in)','Weather_Condition','Amenity','Bump','Crossing',\n",
    "               'Give_Way','Junction','No_Exit','Railway','Roundabout','Station','Stop','Traffic_Calming','Traffic_Signal',\n",
    "               'Turning_Loop','Sunrise_Sunset','Civil_Twilight','Nautical_Twilight','Astronomical_Twilight']'''"
   ]
  },
  {
   "cell_type": "code",
   "execution_count": null,
   "id": "54181d81",
   "metadata": {},
   "outputs": [],
   "source": [
    "from pyspark.sql.functions import udf\n",
    "\n",
    "# columns not used in analysis\n",
    "for field in ['ID','Start_Time','End_Time','Start_Lat',\n",
    "              'Start_Lng','End_Lat','End_Lng','Description',\n",
    "              'Number','Street','City','County','State','Zipcode','Country','Airport_Code',\n",
    "              'Weather_Timestamp']:\n",
    "    data = data.drop(field)\n",
    "\n",
    "def trim(string):\n",
    "    return (string\n",
    "            .strip()                # string columns have spaces due to csv file format\n",
    "            .replace('.','')        # remove period at end of each line\n",
    "            .replace('yes','True')  # convert yes/no to True/False\n",
    "            .replace('no','False'))\n",
    "\n",
    "# udf converts a function into one that can be applied over\n",
    "# a dataframe column. This is kind of like Pandas apply/map functionality.\n",
    "trim = udf(trim)\n",
    "    \n",
    "# apply the function to every string column\n",
    "for dtype in data.dtypes:\n",
    "    column = dtype[0]\n",
    "    if dtype[1] == 'string':\n",
    "        data = data.withColumn(column, trim(data[column]))\n",
    "\n",
    "# boolean types converted to integers\n",
    "for column in ['intl_plan', 'voice_mail_plan']:\n",
    "    data = data.withColumn(column, data[column].cast('boolean').cast('int'))\n",
    "    \n",
    "# predictors have to be of type double for many of Spark's ML models\n",
    "data = data.withColumn('churned', data['churned'].cast('boolean').cast('double'))"
   ]
  },
  {
   "cell_type": "markdown",
   "id": "670073a3",
   "metadata": {},
   "source": [
    "Correlation plots of variables:"
   ]
  },
  {
   "cell_type": "code",
   "execution_count": null,
   "id": "b3374276",
   "metadata": {},
   "outputs": [],
   "source": [
    "from pandas.plotting import scatter_matrix\n",
    "\n",
    "sns.set_palette('dark')\n",
    "sns.set_context('notebook')\n",
    "sns.set_style('white')\n",
    "\n",
    "# get the names of columns that are integers or doubles\n",
    "numeric_features = [t[0] for t in data.dtypes if t[1] in ['int', 'double']]\n",
    "\n",
    "# sample 10% of this data and convert to a Pandas dataframe\n",
    "sampled_data = data.select(numeric_features).sample(False, 0.1).toPandas()\n",
    "\n",
    "# make the scatter plot\n",
    "axs = scatter_matrix(sampled_data, figsize=(12, 12));\n",
    "\n",
    "# Rotate axis labels and remove axis ticks\n",
    "n = len(sampled_data.columns)\n",
    "for i in range(n):\n",
    "    v = axs[i, 0]\n",
    "    v.yaxis.label.set_rotation(0)\n",
    "    v.yaxis.label.set_ha('right')\n",
    "    v.set_yticks(())\n",
    "    h = axs[n-1, i]\n",
    "    h.xaxis.label.set_rotation(90)\n",
    "    h.set_xticks(())"
   ]
  },
  {
   "cell_type": "code",
   "execution_count": null,
   "id": "4b725742",
   "metadata": {},
   "outputs": [],
   "source": []
  }
 ],
 "metadata": {
  "kernelspec": {
   "display_name": "Python [conda env:metis] *",
   "language": "python",
   "name": "conda-env-metis-py"
  },
  "language_info": {
   "codemirror_mode": {
    "name": "ipython",
    "version": 3
   },
   "file_extension": ".py",
   "mimetype": "text/x-python",
   "name": "python",
   "nbconvert_exporter": "python",
   "pygments_lexer": "ipython3",
   "version": "3.8.10"
  }
 },
 "nbformat": 4,
 "nbformat_minor": 5
}
