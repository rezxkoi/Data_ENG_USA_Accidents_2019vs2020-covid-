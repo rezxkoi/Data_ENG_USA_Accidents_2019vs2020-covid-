{
 "cells": [
  {
   "cell_type": "code",
   "execution_count": 42,
   "id": "c698988f",
   "metadata": {},
   "outputs": [
    {
     "data": {
      "text/plain": [
       "'\\n\\n\\n###Create database\\n\\nsqlite3 accidents.db\\n\\n###Set the mode & tablename\\n\\n.mode csv \\n\\n###Import the csv file data to sqlite3\\n\\n.import us_accide_2019.csv acc2019\\n.import usa_accidents_2020.csv acc2020\\n\\n\\n'"
      ]
     },
     "execution_count": 42,
     "metadata": {},
     "output_type": "execute_result"
    }
   ],
   "source": [
    "# Making a database witn SQLlite \n",
    "# Importing the 2 tables to the data base in order to read in from the database in the next notebooks\n",
    "'''\n",
    "\n",
    "\n",
    "###Create database\n",
    "\n",
    "sqlite3 accidents.db\n",
    "\n",
    "###Set the mode & tablename\n",
    "\n",
    ".mode csv \n",
    "\n",
    "###Import the csv file data to sqlite3\n",
    "\n",
    ".import us_accide_2019.csv acc2019\n",
    ".import usa_accidents_2020.csv acc2020\n",
    "\n",
    "\n",
    "'''"
   ]
  },
  {
   "cell_type": "code",
   "execution_count": 2,
   "id": "ae7ce038",
   "metadata": {},
   "outputs": [],
   "source": [
    "import numpy as np\n",
    "import pandas as pd\n",
    "from sqlalchemy import create_engine\n",
    "import warnings\n",
    "warnings.filterwarnings('ignore')\n",
    "# import collect_data"
   ]
  },
  {
   "cell_type": "code",
   "execution_count": 36,
   "id": "38d29e79",
   "metadata": {},
   "outputs": [],
   "source": [
    "# Accessing data from database\n",
    "engine1 = create_engine('sqlite:///accidents.db')"
   ]
  },
  {
   "cell_type": "code",
   "execution_count": 37,
   "id": "3a17f301",
   "metadata": {},
   "outputs": [],
   "source": [
    "acc2019_df = pd.read_sql('SELECT * FROM acc2019 ',engine1)"
   ]
  },
  {
   "cell_type": "code",
   "execution_count": 38,
   "id": "f549a3e8",
   "metadata": {},
   "outputs": [],
   "source": [
    "acc2020_df = pd.read_sql('SELECT * FROM acc2020 ',engine1)"
   ]
  },
  {
   "cell_type": "code",
   "execution_count": 40,
   "id": "2adc6339",
   "metadata": {},
   "outputs": [],
   "source": [
    "acc2019_df.to_csv('acc2019.csv', index = False)"
   ]
  },
  {
   "cell_type": "code",
   "execution_count": 41,
   "id": "dffe058f",
   "metadata": {},
   "outputs": [],
   "source": [
    "acc2020_df.to_csv('acc2020.csv', index = False)"
   ]
  }
 ],
 "metadata": {
  "kernelspec": {
   "display_name": "Python [conda env:metis] *",
   "language": "python",
   "name": "conda-env-metis-py"
  },
  "language_info": {
   "codemirror_mode": {
    "name": "ipython",
    "version": 3
   },
   "file_extension": ".py",
   "mimetype": "text/x-python",
   "name": "python",
   "nbconvert_exporter": "python",
   "pygments_lexer": "ipython3",
   "version": "3.8.10"
  }
 },
 "nbformat": 4,
 "nbformat_minor": 5
}
